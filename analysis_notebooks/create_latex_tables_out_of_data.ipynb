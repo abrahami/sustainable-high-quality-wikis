{
 "cells": [
  {
   "cell_type": "code",
   "execution_count": 1,
   "id": "initial_id",
   "metadata": {
    "collapsed": true,
    "ExecuteTime": {
     "end_time": "2024-10-02T01:55:49.271482Z",
     "start_time": "2024-10-02T01:55:49.268449Z"
    }
   },
   "outputs": [],
   "source": [
    "import pandas as pd\n",
    "import numpy as np\n",
    "from os.path import join as opj\n",
    "import seaborn as sns\n",
    "import matplotlib.pyplot as plt\n",
    "from collections import Counter"
   ]
  },
  {
   "cell_type": "markdown",
   "source": [
    "# Configurations"
   ],
   "metadata": {
    "collapsed": false
   },
   "id": "8bcc54270985a013"
  },
  {
   "cell_type": "code",
   "outputs": [],
   "source": [
    "base_folder = '/shared/3/projects/relationship-aware-networks-wikipedia'\n",
    "model_folder = opj(base_folder, 'models')\n",
    "usecase = 'ga' #ga\n",
    "required_measures = ['binary_prec_at_2_perc', 'binary_prec_at_10_perc', 'binary_precision_optimal_th', 'binary_recall_optimal_th', 'binary_f1_optimal_th', 'macro_f1_opt_th', 'macro_auc']"
   ],
   "metadata": {
    "collapsed": false,
    "ExecuteTime": {
     "end_time": "2024-10-02T02:05:40.944343Z",
     "start_time": "2024-10-02T02:05:40.939068Z"
    }
   },
   "id": "7ea34ae67a3dd0b9",
   "execution_count": 8
  },
  {
   "cell_type": "markdown",
   "source": [
    "## Data Statistics Table"
   ],
   "metadata": {
    "collapsed": false
   },
   "id": "8c4f91be9014fda1"
  },
  {
   "cell_type": "code",
   "outputs": [
    {
     "data": {
      "text/plain": "(7199, 332)"
     },
     "execution_count": 3,
     "metadata": {},
     "output_type": "execute_result"
    }
   ],
   "source": [
    "rel_model = '10.2' if usecase == 'fa' else '20.2'\n",
    "modeling_df = pd.read_csv(opj(model_folder, str(rel_model), 'modeling_df.csv'))\n",
    "modeling_df.shape"
   ],
   "metadata": {
    "collapsed": false,
    "ExecuteTime": {
     "end_time": "2024-10-02T01:55:58.459873Z",
     "start_time": "2024-10-02T01:55:57.209032Z"
    }
   },
   "id": "5f4a367e7cfe66dc",
   "execution_count": 3
  },
  {
   "cell_type": "code",
   "outputs": [],
   "source": [
    "rel_columns = ['is_sustainable_conservative_approach', 'EDIT_time_to_promotion', 'EDIT_num_revisions', 'EDIT_num_authors', 'DISCUSSIONS_num_authors']\n",
    "rel_stats = ['sum', 'mean', 'median', 'std']\n",
    "stats_df = modeling_df[rel_columns].copy()\n",
    "stats_df_sum = stats_df.sum()\n",
    "stats_df_mean = stats_df.mean()\n",
    "stats_df_median = stats_df.median()\n",
    "stats_df_std = stats_df.std()\n",
    "\n",
    "stats_df.loc['sum'] = stats_df_sum\n",
    "stats_df.loc['mean'] = stats_df_mean\n",
    "stats_df.loc['median'] = stats_df_median\n",
    "stats_df.loc['std'] = stats_df_std"
   ],
   "metadata": {
    "collapsed": false,
    "ExecuteTime": {
     "end_time": "2024-10-01T19:07:42.930977Z",
     "start_time": "2024-10-01T19:07:42.836308Z"
    }
   },
   "id": "a38d96ec95e13466",
   "execution_count": 95
  },
  {
   "cell_type": "code",
   "outputs": [
    {
     "name": "stdout",
     "output_type": "stream",
     "text": [
      "& 38801& 0.94& 1& 0.25\n",
      "& 83519644& 2013.64& 1524& 1869.3\n",
      "& 20169570& 486.28& 159& 1048.59\n",
      "& 3724692& 89.8& 32& 176.69\n",
      "& 364106& 8.78& 3& 26.12\n"
     ]
    }
   ],
   "source": [
    "for rc in rel_columns:\n",
    "    cur_sum = int(stats_df.loc[rel_stats[0]][rc])\n",
    "    cur_mean = round(stats_df.loc[rel_stats[1]][rc], 2)\n",
    "    cur_median = int(stats_df.loc[rel_stats[2]][rc])\n",
    "    cur_std = round(stats_df.loc[rel_stats[3]][rc], 2)\n",
    "    items_to_print = [str(cur_sum), str(cur_mean), str(cur_median), str(cur_std)]\n",
    "    main_string_to_print = '& '.join(items_to_print)\n",
    "    prefix = '& '\n",
    "    sufix = ''\n",
    "    print(prefix + main_string_to_print + sufix)\n",
    "#stats_df[['sum', 'mean', 'median', 'std']]"
   ],
   "metadata": {
    "collapsed": false,
    "ExecuteTime": {
     "end_time": "2024-10-01T19:07:44.893623Z",
     "start_time": "2024-10-01T19:07:44.882975Z"
    }
   },
   "id": "d9e2b13fd180f817",
   "execution_count": 96
  },
  {
   "cell_type": "markdown",
   "source": [
    "## Results Table Printing"
   ],
   "metadata": {
    "collapsed": false
   },
   "id": "2db58def428b1787"
  },
  {
   "cell_type": "code",
   "outputs": [],
   "source": [
    "concise_eval_measures = dict()\n",
    "# models_to_import = ['1.01', '1.1', '1.11', '1.12', '1.13', '1.14', '1.15', '1.21'] if usecase == 'fa' else \\\n",
    "#     ['2.01', '2.1', '2.11', '2.12', '2.13', '2.14', '2.15', '2.21']\n",
    "models_to_import = ['10.01', '10.1', '10.11', '10.12', '10.13', '10.14', '10.15', '10.21'] if usecase == 'fa' else \\\n",
    "    ['20.01', '20.1', '20.11', '20.12', '20.13', '20.14', '20.15', '20.21']"
   ],
   "metadata": {
    "collapsed": false,
    "ExecuteTime": {
     "end_time": "2024-10-02T02:05:45.659566Z",
     "start_time": "2024-10-02T02:05:45.655013Z"
    }
   },
   "id": "b94ecaf0b104d3ff",
   "execution_count": 9
  },
  {
   "cell_type": "code",
   "outputs": [],
   "source": [
    "mean_eval_measures = dict()\n",
    "std_eval_measures = dict()\n",
    "for cur_model in models_to_import:\n",
    "    #cur_model_results_f_name = opj(model_folder, str(cur_model), 'bootstrap_eval_measures_test.csv')\n",
    "    cur_model_results_f_name = opj(model_folder, str(cur_model), 'eval_measures_test.csv')\n",
    "    cur_results = pd.read_csv(cur_model_results_f_name)\n",
    "    cur_results.set_index('Unnamed: 0', drop=True, inplace=True)\n",
    "    cur_results_mean = cur_results.loc['mean'][required_measures]\n",
    "    cur_results_std = cur_results.loc['std'][required_measures]\n",
    "    mean_eval_measures[cur_model] = cur_results_mean.to_dict()\n",
    "    std_eval_measures[cur_model] = cur_results_std.to_dict()"
   ],
   "metadata": {
    "collapsed": false,
    "ExecuteTime": {
     "end_time": "2024-10-02T02:05:48.527281Z",
     "start_time": "2024-10-02T02:05:48.300341Z"
    }
   },
   "id": "df923e429b18d69a",
   "execution_count": 10
  },
  {
   "cell_type": "code",
   "outputs": [
    {
     "name": "stdout",
     "output_type": "stream",
     "text": [
      "& 0.42$\\pm$0.02& 0.25$\\pm$0.02& 0.39$\\pm$0.03& 0.12$\\pm$0.01& 0.18$\\pm$0.01& 0.57$\\pm$0.01& 0.7$\\pm$0.01 \\\\[2pt]\n",
      "& 0.53$\\pm$0.05& 0.38$\\pm$0.02& 0.33$\\pm$0.02& 0.3$\\pm$0.02& 0.31$\\pm$0.02& 0.63$\\pm$0.01& 0.78$\\pm$0.0\\\\[2pt] &\n",
      "& 0.45$\\pm$0.02& 0.32$\\pm$0.02& 0.26$\\pm$0.01& 0.28$\\pm$0.01& 0.27$\\pm$0.01& 0.61$\\pm$0.01& 0.71$\\pm$0.01\\\\[2pt] &\n",
      "& 0.23$\\pm$0.04& 0.21$\\pm$0.02& 0.19$\\pm$0.01& 0.24$\\pm$0.03& 0.21$\\pm$0.02& 0.55$\\pm$0.01& 0.68$\\pm$0.01\\\\[2pt] &\n",
      "& 0.32$\\pm$0.05& 0.27$\\pm$0.02& 0.21$\\pm$0.02& 0.41$\\pm$0.13& 0.27$\\pm$0.04& 0.58$\\pm$0.01& 0.75$\\pm$0.01\\\\[2pt] &\n",
      "& 0.47$\\pm$0.02& 0.33$\\pm$0.01& 0.34$\\pm$0.01& 0.2$\\pm$0.01& 0.25$\\pm$0.01& 0.6$\\pm$0.01& 0.71$\\pm$0.01\\\\[2pt] &\n",
      "& 0.65$\\pm$0.03& 0.53$\\pm$0.02& 0.46$\\pm$0.02& 0.45$\\pm$0.03& 0.45$\\pm$0.02& 0.7$\\pm$0.01& 0.83$\\pm$0.01\\\\[2pt] &\n",
      "& 0.75$\\pm$0.04& 0.57$\\pm$0.02& 0.48$\\pm$0.03& 0.47$\\pm$0.02& 0.48$\\pm$0.02& 0.72$\\pm$0.01& 0.87$\\pm$0.01 \\\\[2pt]\n"
     ]
    }
   ],
   "source": [
    "for model, measures in mean_eval_measures.items():\n",
    "    printing_strs_list = list() \n",
    "    for cur_measure, value in measures.items():\n",
    "        corres_std = str(round(float(std_eval_measures[model][cur_measure]), 2))\n",
    "        str_to_add = str(round(float(value), 2)) + '$\\pm$'+ corres_std\n",
    "        printing_strs_list.append(str_to_add)\n",
    "    # end of the inner loop, we have to print the required string\n",
    "    main_string_to_print = '& '.join(printing_strs_list)\n",
    "    prefix = '& '\n",
    "    sufix = ' \\\\\\[2pt]' if model.endswith('.01') or model.endswith('.21') else '\\\\\\[2pt] &'\n",
    "    print(prefix + main_string_to_print + sufix)"
   ],
   "metadata": {
    "collapsed": false,
    "ExecuteTime": {
     "end_time": "2024-10-02T02:05:50.811747Z",
     "start_time": "2024-10-02T02:05:50.800724Z"
    }
   },
   "id": "8eabd4401acc5bf2",
   "execution_count": 11
  }
 ],
 "metadata": {
  "kernelspec": {
   "display_name": "Python 3",
   "language": "python",
   "name": "python3"
  },
  "language_info": {
   "codemirror_mode": {
    "name": "ipython",
    "version": 2
   },
   "file_extension": ".py",
   "mimetype": "text/x-python",
   "name": "python",
   "nbconvert_exporter": "python",
   "pygments_lexer": "ipython2",
   "version": "2.7.6"
  }
 },
 "nbformat": 4,
 "nbformat_minor": 5
}
