{
 "cells": [
  {
   "cell_type": "code",
   "execution_count": 1,
   "id": "initial_id",
   "metadata": {
    "collapsed": true,
    "ExecuteTime": {
     "end_time": "2024-09-09T20:17:28.748004Z",
     "start_time": "2024-09-09T20:17:24.016889Z"
    }
   },
   "outputs": [],
   "source": [
    "import sys\n",
    "sys.path.append('/home/isabrah/sustainable_high_quality_wikis')\n",
    "from modeling.modeling_utils import find_optimal_threshold, eval_classification_preds\n",
    "import pandas as pd\n",
    "import numpy as np\n",
    "from os.path import join as opj\n",
    "from collections import defaultdict, Counter\n",
    "from sklearn.model_selection import StratifiedKFold, StratifiedShuffleSplit\n",
    "from sklearn.ensemble import GradientBoostingClassifier\n",
    "from sklearn.impute import SimpleImputer\n",
    "import matplotlib.pyplot as plt\n",
    "import multiprocess as mp\n",
    "from scipy.stats import t"
   ]
  },
  {
   "cell_type": "code",
   "outputs": [],
   "source": [
    "def run_cv_process(run_idx, x_data, y_data, classification_model, folds_k=5):\n",
    "    \"\"\"\n",
    "    This function is useful for running CV process in a MP way. It returns an evaluation df of both train and test DFs \n",
    "    :param run_idx: int\n",
    "        a running index of the CV process\n",
    "    :param x_data: pandas df\n",
    "        a dataframe with the X matrix to be used for modeling\n",
    "    :param y_data: pandas series\n",
    "        the vector of y values to be used while modeling. Should include only 1 and 0\n",
    "    :param classification_model: sklearn model\n",
    "        the model to be used while modeling (e.g., LogisticRegression)\n",
    "    :param folds_k: int, default=5\n",
    "        number of folds to use for cross-validation\n",
    "    :return: tuple (size 4)\n",
    "        run_idx: same value given in input. Makes it easy to follow the results from multiple cores\n",
    "        eval_measures_train_df: all results (mean and std) of the train data along the k_fold CSs\n",
    "        eval_measures_test_df: same as the train df above, but for test\n",
    "        predictions: a list of prediction values over all dataset (based on the prediction per fold we get)\n",
    "    \"\"\"\n",
    "    skf = StratifiedKFold(n_splits=folds_k, shuffle=True, random_state=seed)\n",
    "    eval_measures_train = dict()\n",
    "    eval_measures_test = dict()\n",
    "    predictions = dict()\n",
    "    feature_importance = defaultdict(float)\n",
    "    local_y_data = y_data.copy() # for some reason, the y vector cannot be handled without making a local version of it\n",
    "    for cv_index, (train_index, test_index) in enumerate(skf.split(x_data, local_y_data)):\n",
    "        x_train, x_test = x_data.iloc[train_index], x_data.iloc[test_index]\n",
    "        y_train, y_test = y_data.iloc[train_index], y_data.iloc[test_index]\n",
    "        \n",
    "        # filling the missing values with the mean\n",
    "        imputer = SimpleImputer(strategy='mean')\n",
    "    \n",
    "        # Fit the imputer on the training data and transform both train and test sets\n",
    "        x_train_imputed = pd.DataFrame(imputer.fit_transform(x_train), columns=x_train.columns)\n",
    "        x_test_imputed = pd.DataFrame(imputer.transform(x_test), columns=x_train.columns)\n",
    "    \n",
    "        model = classification_model\n",
    "        model.fit(x_train_imputed, y_train)\n",
    "          \n",
    "        # finding the optimal threshold\n",
    "        y_train_pred_proba = model.predict_proba(x_train_imputed)[:, 1]\n",
    "        optimal_th = find_optimal_threshold(y_true=y_train, predicted_proba=y_train_pred_proba)\n",
    "    \n",
    "        # Evaluate the Model\n",
    "        y_test_pred_proba = model.predict_proba(x_test_imputed)[:, 1]\n",
    "        y_pred_test = model.predict(x_test_imputed)\n",
    "        eval_dict_test = eval_classification_preds(true_values=y_test, preds=y_pred_test,\n",
    "                                                   preds_proba=y_test_pred_proba, optimal_th=optimal_th)\n",
    "        eval_dict_train = eval_classification_preds(true_values=y_train, preds=model.predict(x_train_imputed),\n",
    "                                                    preds_proba=y_train_pred_proba, optimal_th=optimal_th)\n",
    "    \n",
    "        eval_measures_train[cv_index] = eval_dict_train\n",
    "        eval_measures_test[cv_index] = eval_dict_test\n",
    "        cur_pred_per_page = {page_id: pred for page_id, pred in zip(y_test.index, y_test_pred_proba)}\n",
    "        predictions.update(cur_pred_per_page)\n",
    "        # feature importance process\n",
    "        cur_feature_importance = {f_name: f_importance for f_name, f_importance in zip(model.feature_names_in_, model.feature_importances_)}\n",
    "        for cfi, value in cur_feature_importance.items():\n",
    "            feature_importance[cfi] += value\n",
    "    eval_measures_train_df = pd.DataFrame.from_dict(eval_measures_train, orient='index')\n",
    "    eval_measures_test_df = pd.DataFrame.from_dict(eval_measures_test, orient='index')\n",
    "    # append the average values as a new row to the DataFrame\n",
    "    eval_measures_train_df.loc['mean'] = eval_measures_train_df.mean()\n",
    "    eval_measures_train_df.loc['std'] = eval_measures_train_df.std()\n",
    "    eval_measures_test_df.loc['mean'] = eval_measures_test_df.mean()\n",
    "    eval_measures_test_df.loc['std'] = eval_measures_test_df.std()\n",
    "    print(f\"Run index {run_idx} has ended.\")\n",
    "    return run_idx, eval_measures_train_df, eval_measures_test_df, predictions"
   ],
   "metadata": {
    "collapsed": false,
    "ExecuteTime": {
     "end_time": "2024-09-09T20:17:31.260367Z",
     "start_time": "2024-09-09T20:17:31.224576Z"
    }
   },
   "id": "c6ccbc9b4d525c8",
   "execution_count": 2
  },
  {
   "cell_type": "markdown",
   "source": [
    "### Configurations"
   ],
   "metadata": {
    "collapsed": false
   },
   "id": "ab7ee9dd86b4520b"
  },
  {
   "cell_type": "code",
   "outputs": [],
   "source": [
    "model_version = 2.2\n",
    "target_column = 'is_sustained'\n",
    "use_only_meta_features = False\n",
    "model_folder = '/shared/3/projects/relationship-aware-networks-wikipedia/models'\n",
    "seed = 1984\n",
    "classification_model = GradientBoostingClassifier(n_estimators=100)"
   ],
   "metadata": {
    "collapsed": false,
    "ExecuteTime": {
     "end_time": "2024-09-09T20:17:37.487509Z",
     "start_time": "2024-09-09T20:17:37.475864Z"
    }
   },
   "id": "a66c22f819775f7d",
   "execution_count": 3
  },
  {
   "cell_type": "markdown",
   "source": [
    "### Data loading & cleaning"
   ],
   "metadata": {
    "collapsed": false
   },
   "id": "4018199817d34217"
  },
  {
   "cell_type": "code",
   "outputs": [],
   "source": [
    "data_df = pd.read_csv(opj(model_folder, str(model_version), 'modeling_df.csv'))\n",
    "# Set the first column as the index\n",
    "data_df.set_index(data_df.columns[0], inplace=True)\n",
    "data_df[target_column] = data_df[target_column].astype(int)\n",
    "# all features that start with 'TIME_' should not be included in the modeling df\n",
    "x_columns = [c for c in data_df.columns if c != target_column and not c.startswith('TIME_')]"
   ],
   "metadata": {
    "collapsed": false,
    "ExecuteTime": {
     "end_time": "2024-09-09T20:17:42.396388Z",
     "start_time": "2024-09-09T20:17:39.587501Z"
    }
   },
   "id": "fc126da17bcfbb40",
   "execution_count": 4
  },
  {
   "cell_type": "code",
   "outputs": [
    {
     "data": {
      "text/plain": "[103, 393, 745, 1156, 1834, 2819, 3924, 4970, 5574, 6757]"
     },
     "execution_count": 5,
     "metadata": {},
     "output_type": "execute_result"
    }
   ],
   "source": [
    "promotion_column = pd.to_datetime(data_df['TIME_promotion_date'])\n",
    "demotion_column = pd.to_datetime(data_df['TIME_demotion_date'])\n",
    "\n",
    "# Calculate the difference in days\n",
    "time_in_promotion = (demotion_column - promotion_column).dt.days\n",
    "y_values = data_df[target_column].astype(int)\n",
    "# extract the quantiles\n",
    "time_in_promotion_not_nan = [t for t in time_in_promotion if not np.isnan(t)]\n",
    "time_in_promotion_quantiles = [int(pd.Series(time_in_promotion_not_nan).quantile(q=q/10.0)) for q in range(1,11)]\n",
    "time_in_promotion_quantiles"
   ],
   "metadata": {
    "collapsed": false,
    "ExecuteTime": {
     "end_time": "2024-09-09T20:17:44.857194Z",
     "start_time": "2024-09-09T20:17:44.541645Z"
    }
   },
   "id": "4d735aaa305ba27b",
   "execution_count": 5
  },
  {
   "cell_type": "markdown",
   "source": [
    "### Correaltion analysis (did not end up nicely, so no real need to consider)"
   ],
   "metadata": {
    "collapsed": false
   },
   "id": "b7a872c3bd321b2e"
  },
  {
   "cell_type": "code",
   "outputs": [
    {
     "data": {
      "text/plain": "3121"
     },
     "execution_count": 6,
     "metadata": {},
     "output_type": "execute_result"
    }
   ],
   "source": [
    "demoted_pages_promotion_time = {page_id: promotion_time for page_id, promotion_time in time_in_promotion.to_dict().items() if not np.isnan(promotion_time)}\n",
    "row_lvl_preds = pd.read_csv(opj(model_folder, str(model_version), 'row_lvl_preds.csv'))\n",
    "row_lvl_preds.set_index(keys='Unnamed: 0', inplace=True, drop=True)\n",
    "row_lvl_preds_dict = dict(zip(row_lvl_preds.index, row_lvl_preds.iloc[:,0]))\n",
    "demoted_pages_all_info = {page_id: {'pred': pred, 'promotion_dim': demoted_pages_promotion_time[page_id]} for page_id, pred in row_lvl_preds_dict.items() if page_id in demoted_pages_promotion_time}\n",
    "len(demoted_pages_all_info)"
   ],
   "metadata": {
    "collapsed": false,
    "ExecuteTime": {
     "end_time": "2024-09-09T20:17:47.751235Z",
     "start_time": "2024-09-09T20:17:47.402374Z"
    }
   },
   "id": "827b4dd9626a73e8",
   "execution_count": 6
  },
  {
   "cell_type": "code",
   "outputs": [
    {
     "data": {
      "text/plain": "               pred  promotion_dim\npred           1.00          -0.01\npromotion_dim -0.01           1.00",
      "text/html": "<div>\n<style scoped>\n    .dataframe tbody tr th:only-of-type {\n        vertical-align: middle;\n    }\n\n    .dataframe tbody tr th {\n        vertical-align: top;\n    }\n\n    .dataframe thead th {\n        text-align: right;\n    }\n</style>\n<table border=\"1\" class=\"dataframe\">\n  <thead>\n    <tr style=\"text-align: right;\">\n      <th></th>\n      <th>pred</th>\n      <th>promotion_dim</th>\n    </tr>\n  </thead>\n  <tbody>\n    <tr>\n      <th>pred</th>\n      <td>1.00</td>\n      <td>-0.01</td>\n    </tr>\n    <tr>\n      <th>promotion_dim</th>\n      <td>-0.01</td>\n      <td>1.00</td>\n    </tr>\n  </tbody>\n</table>\n</div>"
     },
     "execution_count": 7,
     "metadata": {},
     "output_type": "execute_result"
    }
   ],
   "source": [
    "pd.DataFrame.from_dict(demoted_pages_all_info, orient='index').corr(method='spearman')"
   ],
   "metadata": {
    "collapsed": false,
    "ExecuteTime": {
     "end_time": "2024-09-09T20:17:50.549959Z",
     "start_time": "2024-09-09T20:17:50.490297Z"
    }
   },
   "id": "9170492211ac76f7",
   "execution_count": 7
  },
  {
   "cell_type": "markdown",
   "source": [
    "### Modeling, each quantile separately (now doing it in a mp way!)"
   ],
   "metadata": {
    "collapsed": false
   },
   "id": "13b654174fa8beaa"
  },
  {
   "cell_type": "code",
   "outputs": [],
   "source": [
    "input_for_pool = list()\n",
    "res_per_quantile = dict()\n",
    "for run_idx, cur_quantile in enumerate(time_in_promotion_quantiles):\n",
    "    cur_y_values = [0 if tip <= cur_quantile else 1 for tip in time_in_promotion]\n",
    "    data_df['cur_y_values'] = pd.Series(cur_y_values).astype(int)\n",
    "    # if we want to include specific sets of features (e.g., meta)\n",
    "    if use_only_meta_features:\n",
    "        x_columns = [c for c in x_columns if c.startswith('META_')]\n",
    "    x_data = data_df[x_columns].copy()\n",
    "    y_data = pd.Series(cur_y_values)\n",
    "    minority_class_prop = round(min(list(Counter(y_data).values())) / len(y_data), 2)\n",
    "    input_for_pool.append((run_idx, x_data, y_data, classification_model, 5))\n",
    "    res_per_quantile[run_idx] = {'quantile': cur_quantile, 'n': len(y_data), 'minority_class_prop': minority_class_prop}"
   ],
   "metadata": {
    "collapsed": false,
    "ExecuteTime": {
     "end_time": "2024-09-09T20:17:56.606116Z",
     "start_time": "2024-09-09T20:17:52.579032Z"
    }
   },
   "id": "b188c28922b2fc5c",
   "execution_count": 8
  },
  {
   "cell_type": "code",
   "outputs": [
    {
     "name": "stdout",
     "output_type": "stream",
     "text": [
      "Run index 1 has ended.\n",
      "Run index 0 has ended.\n",
      "Run index 2 has ended.\n",
      "Run index 3 has ended.\n",
      "Run index 8 has ended.\n",
      "Run index 4 has ended.\n",
      "Run index 7 has ended.\n",
      "Run index 5 has ended.\n",
      "Run index 6 has ended.\n",
      "Run index 9 has ended.\n"
     ]
    }
   ],
   "source": [
    "pool = mp.Pool(processes=len(input_for_pool))\n",
    "with pool as pool:\n",
    "    results = pool.starmap(run_cv_process, input_for_pool)"
   ],
   "metadata": {
    "collapsed": false,
    "ExecuteTime": {
     "end_time": "2024-09-09T20:31:30.346331Z",
     "start_time": "2024-09-09T20:19:05.864694Z"
    }
   },
   "id": "1cbd4a045b5c7e59",
   "execution_count": 9
  },
  {
   "cell_type": "code",
   "outputs": [],
   "source": [
    "# merging the list of dicts into one dict\n",
    "for res in results:\n",
    "    run_idx, eval_measures_df_train, eval_measures_df_test, _ = res\n",
    "    f1_ci = t.interval(0.95, 5, loc=eval_measures_df_test.loc['mean']['f1_opt_th'],\n",
    "                       scale=eval_measures_df_test.loc['std']['f1_opt_th'])  # 95% confidence interval\n",
    "    f1_ci = tuple(map(lambda x: isinstance(x, float) and round(x, 3) or x, f1_ci)) # rounding the numbers\n",
    "    auc_ci = t.interval(0.95, 5, loc=eval_measures_df_test.loc['mean']['auc'],\n",
    "                       scale=eval_measures_df_test.loc['std']['auc'])  # 95% confidence interval\n",
    "    auc_ci = tuple(map(lambda x: isinstance(x, float) and round(x, 3) or x, auc_ci)) # rounding the numbers\n",
    "    res_per_quantile[run_idx].update({'train_f1': eval_measures_df_train.loc['mean']['f1_opt_th'],\n",
    "                                      'train_auc': eval_measures_df_train.loc['mean']['auc'],\n",
    "                                      'test_f1': eval_measures_df_test.loc['mean']['f1_opt_th'],\n",
    "                                      'test_auc': eval_measures_df_test.loc['mean']['auc'],\n",
    "                                      'test_auc_std': eval_measures_df_test.loc['std']['auc'],\n",
    "                                      'test_f1_std': eval_measures_df_test.loc['std']['f1_opt_th'],\n",
    "                                      'f1_ci': f1_ci, 'auc_ci': auc_ci})\n",
    "res_per_quantile_df = pd.DataFrame.from_dict(res_per_quantile, orient='index')"
   ],
   "metadata": {
    "collapsed": false,
    "ExecuteTime": {
     "end_time": "2024-09-09T21:25:27.865685Z",
     "start_time": "2024-09-09T21:25:27.829516Z"
    }
   },
   "id": "6f45665a20fb00dd",
   "execution_count": 30
  },
  {
   "cell_type": "markdown",
   "source": [
    "### Analyzing the results"
   ],
   "metadata": {
    "collapsed": false
   },
   "id": "a4d8088afcf5e735"
  },
  {
   "cell_type": "code",
   "outputs": [
    {
     "data": {
      "text/plain": "   quantile      n  minority_class_prop  train_f1  train_auc   test_f1  \\\n0       103  41798                 0.01  0.855199   0.906563  0.514451   \n1       393  41798                 0.02  0.748470   0.850832  0.553691   \n2       745  41798                 0.02  0.718454   0.841111  0.593662   \n3      1156  41798                 0.03  0.699652   0.843668  0.612351   \n4      1834  41798                 0.04  0.692153   0.849411  0.632763   \n5      2819  41798                 0.05  0.681402   0.841873  0.625056   \n6      3924  41798                 0.06  0.678656   0.838606  0.628560   \n7      4970  41798                 0.06  0.678477   0.842099  0.632162   \n8      5574  41798                 0.07  0.672550   0.848694  0.632135   \n9      6757  41798                 0.08  0.695612   0.860465  0.659928   \n\n   test_auc  test_auc_std  test_f1_std           f1_ci          auc_ci  \n0  0.780612      0.028137     0.016160  (0.473, 0.556)  (0.708, 0.853)  \n1  0.780230      0.008404     0.014053   (0.518, 0.59)  (0.759, 0.802)  \n2  0.788135      0.009192     0.017337  (0.549, 0.638)  (0.765, 0.812)  \n3  0.798748      0.015042     0.021606  (0.557, 0.668)   (0.76, 0.837)  \n4  0.806148      0.006676     0.013449  (0.598, 0.667)  (0.789, 0.823)  \n5  0.803183      0.011286     0.017324   (0.581, 0.67)  (0.774, 0.832)  \n6  0.807317      0.018338     0.014949   (0.59, 0.667)   (0.76, 0.854)  \n7  0.809666      0.014744     0.007695  (0.612, 0.652)  (0.772, 0.848)  \n8  0.822464      0.001498     0.008496   (0.61, 0.654)  (0.819, 0.826)  \n9  0.834069      0.008401     0.005219  (0.647, 0.673)  (0.812, 0.856)  ",
      "text/html": "<div>\n<style scoped>\n    .dataframe tbody tr th:only-of-type {\n        vertical-align: middle;\n    }\n\n    .dataframe tbody tr th {\n        vertical-align: top;\n    }\n\n    .dataframe thead th {\n        text-align: right;\n    }\n</style>\n<table border=\"1\" class=\"dataframe\">\n  <thead>\n    <tr style=\"text-align: right;\">\n      <th></th>\n      <th>quantile</th>\n      <th>n</th>\n      <th>minority_class_prop</th>\n      <th>train_f1</th>\n      <th>train_auc</th>\n      <th>test_f1</th>\n      <th>test_auc</th>\n      <th>test_auc_std</th>\n      <th>test_f1_std</th>\n      <th>f1_ci</th>\n      <th>auc_ci</th>\n    </tr>\n  </thead>\n  <tbody>\n    <tr>\n      <th>0</th>\n      <td>103</td>\n      <td>41798</td>\n      <td>0.01</td>\n      <td>0.855199</td>\n      <td>0.906563</td>\n      <td>0.514451</td>\n      <td>0.780612</td>\n      <td>0.028137</td>\n      <td>0.016160</td>\n      <td>(0.473, 0.556)</td>\n      <td>(0.708, 0.853)</td>\n    </tr>\n    <tr>\n      <th>1</th>\n      <td>393</td>\n      <td>41798</td>\n      <td>0.02</td>\n      <td>0.748470</td>\n      <td>0.850832</td>\n      <td>0.553691</td>\n      <td>0.780230</td>\n      <td>0.008404</td>\n      <td>0.014053</td>\n      <td>(0.518, 0.59)</td>\n      <td>(0.759, 0.802)</td>\n    </tr>\n    <tr>\n      <th>2</th>\n      <td>745</td>\n      <td>41798</td>\n      <td>0.02</td>\n      <td>0.718454</td>\n      <td>0.841111</td>\n      <td>0.593662</td>\n      <td>0.788135</td>\n      <td>0.009192</td>\n      <td>0.017337</td>\n      <td>(0.549, 0.638)</td>\n      <td>(0.765, 0.812)</td>\n    </tr>\n    <tr>\n      <th>3</th>\n      <td>1156</td>\n      <td>41798</td>\n      <td>0.03</td>\n      <td>0.699652</td>\n      <td>0.843668</td>\n      <td>0.612351</td>\n      <td>0.798748</td>\n      <td>0.015042</td>\n      <td>0.021606</td>\n      <td>(0.557, 0.668)</td>\n      <td>(0.76, 0.837)</td>\n    </tr>\n    <tr>\n      <th>4</th>\n      <td>1834</td>\n      <td>41798</td>\n      <td>0.04</td>\n      <td>0.692153</td>\n      <td>0.849411</td>\n      <td>0.632763</td>\n      <td>0.806148</td>\n      <td>0.006676</td>\n      <td>0.013449</td>\n      <td>(0.598, 0.667)</td>\n      <td>(0.789, 0.823)</td>\n    </tr>\n    <tr>\n      <th>5</th>\n      <td>2819</td>\n      <td>41798</td>\n      <td>0.05</td>\n      <td>0.681402</td>\n      <td>0.841873</td>\n      <td>0.625056</td>\n      <td>0.803183</td>\n      <td>0.011286</td>\n      <td>0.017324</td>\n      <td>(0.581, 0.67)</td>\n      <td>(0.774, 0.832)</td>\n    </tr>\n    <tr>\n      <th>6</th>\n      <td>3924</td>\n      <td>41798</td>\n      <td>0.06</td>\n      <td>0.678656</td>\n      <td>0.838606</td>\n      <td>0.628560</td>\n      <td>0.807317</td>\n      <td>0.018338</td>\n      <td>0.014949</td>\n      <td>(0.59, 0.667)</td>\n      <td>(0.76, 0.854)</td>\n    </tr>\n    <tr>\n      <th>7</th>\n      <td>4970</td>\n      <td>41798</td>\n      <td>0.06</td>\n      <td>0.678477</td>\n      <td>0.842099</td>\n      <td>0.632162</td>\n      <td>0.809666</td>\n      <td>0.014744</td>\n      <td>0.007695</td>\n      <td>(0.612, 0.652)</td>\n      <td>(0.772, 0.848)</td>\n    </tr>\n    <tr>\n      <th>8</th>\n      <td>5574</td>\n      <td>41798</td>\n      <td>0.07</td>\n      <td>0.672550</td>\n      <td>0.848694</td>\n      <td>0.632135</td>\n      <td>0.822464</td>\n      <td>0.001498</td>\n      <td>0.008496</td>\n      <td>(0.61, 0.654)</td>\n      <td>(0.819, 0.826)</td>\n    </tr>\n    <tr>\n      <th>9</th>\n      <td>6757</td>\n      <td>41798</td>\n      <td>0.08</td>\n      <td>0.695612</td>\n      <td>0.860465</td>\n      <td>0.659928</td>\n      <td>0.834069</td>\n      <td>0.008401</td>\n      <td>0.005219</td>\n      <td>(0.647, 0.673)</td>\n      <td>(0.812, 0.856)</td>\n    </tr>\n  </tbody>\n</table>\n</div>"
     },
     "execution_count": 31,
     "metadata": {},
     "output_type": "execute_result"
    }
   ],
   "source": [
    "res_per_quantile_df"
   ],
   "metadata": {
    "collapsed": false,
    "ExecuteTime": {
     "end_time": "2024-09-09T21:25:30.487643Z",
     "start_time": "2024-09-09T21:25:30.445752Z"
    }
   },
   "id": "41ccbec539077f83",
   "execution_count": 31
  },
  {
   "cell_type": "code",
   "outputs": [
    {
     "data": {
      "text/plain": "<Figure size 640x480 with 2 Axes>",
      "image/png": "[encoded data removed]"
     },
     "metadata": {},
     "output_type": "display_data"
    }
   ],
   "source": [
    "# Plotting with two y-axes\n",
    "fig, ax1 = plt.subplots()\n",
    "# Set white background\n",
    "fig.patch.set_facecolor('white')\n",
    "ax1.set_facecolor('white')\n",
    "\n",
    "color = 'black'\n",
    "ax1.set_ylabel('AUC (Test set)', color=color, fontsize=16)\n",
    "ax1.set_xlabel('Time to demotion (days)', color=color, fontsize=16)\n",
    "ax1.plot(res_per_quantile_df['quantile'], res_per_quantile_df['test_auc'], color=color, marker='o')\n",
    "#yerr = [(rpqd[1] - rpqd[0]) for rpqd in res_per_quantile_df['auc_ci']]\n",
    "ax1.errorbar(res_per_quantile_df['quantile'], res_per_quantile_df['test_auc'], yerr=yerr, fmt='o', color=color)\n",
    "ax1.tick_params(axis='y', labelcolor=color)\n",
    "#ax1.set_xticks(list(res_per_quantile_df['quantile']))\n",
    "\n",
    "ax2 = ax1.twinx()  # instantiate a second axes that shares the same x-axis\n",
    "ax2.set_facecolor('white')  # Ensure the second axes also has a white background\n",
    "\n",
    "color = 'blue'\n",
    "ax2.set_ylabel('F1 (Test set)', color=color, fontsize=16)\n",
    "yerr = [(rpqd[1] - rpqd[0]) for rpqd in res_per_quantile_df['f1_ci']]\n",
    "#ax2.errorbar(res_per_quantile_df['quantile'], res_per_quantile_df['test_f1'], yerr=yerr, fmt='o', color=color)\n",
    "ax2.plot(res_per_quantile_df['quantile'], res_per_quantile_df['test_f1'], color=color, marker='o')\n",
    "ax2.tick_params(axis='y', labelcolor=color)\n",
    "\n",
    "fig.tight_layout()  # otherwise the right y-label is slightly clipped\n",
    "#plt.title('Features Articles, English Wikipedia', fontsize=16)\n",
    "plt.show()"
   ],
   "metadata": {
    "collapsed": false,
    "ExecuteTime": {
     "end_time": "2024-09-09T21:25:53.823230Z",
     "start_time": "2024-09-09T21:25:53.011553Z"
    }
   },
   "id": "55256da7a40ce4a3",
   "execution_count": 32
  }
 ],
 "metadata": {
  "kernelspec": {
   "display_name": "Python 3",
   "language": "python",
   "name": "python3"
  },
  "language_info": {
   "codemirror_mode": {
    "name": "ipython",
    "version": 2
   },
   "file_extension": ".py",
   "mimetype": "text/x-python",
   "name": "python",
   "nbconvert_exporter": "python",
   "pygments_lexer": "ipython2",
   "version": "2.7.6"
  }
 },
 "nbformat": 4,
 "nbformat_minor": 5
}
