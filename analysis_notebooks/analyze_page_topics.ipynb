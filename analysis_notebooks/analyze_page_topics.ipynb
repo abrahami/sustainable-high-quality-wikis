{
 "cells": [
  {
   "cell_type": "code",
   "execution_count": 1,
   "id": "initial_id",
   "metadata": {
    "collapsed": true,
    "ExecuteTime": {
     "end_time": "2024-08-22T15:30:39.390053Z",
     "start_time": "2024-08-22T15:30:38.997737Z"
    }
   },
   "outputs": [],
   "source": [
    "import sys\n",
    "sys.path.append(\"/home/isabrah/sustainable_high_quality_wikis\")\n",
    "import pandas as pd\n",
    "import numpy as np\n",
    "from os.path import join as opj\n",
    "from tqdm import tqdm\n",
    "import matplotlib.pyplot as plt\n",
    "import seaborn as sns\n",
    "from collections import Counter, defaultdict\n",
    "from promotion_demotion_dates_utils import determine_promotion_demotion_dates\n",
    "import itertools\n",
    "import glob\n",
    "import multiprocessing as mp\n",
    "import pickle"
   ]
  },
  {
   "cell_type": "code",
   "outputs": [],
   "source": [
    "def extract_page_metadata(idx, path_to_file):\n",
    "    cur_article_assessment_obj = pickle.load(open(path_to_file, \"rb\"))\n",
    "    article_id = cur_article_assessment_obj.article_id\n",
    "    is_sustainable = cur_article_assessment_obj.is_sustainable\n",
    "    dict_to_return = {'article_id': article_id, 'is_sustainable': is_sustainable}\n",
    "    return dict_to_return"
   ],
   "metadata": {
    "collapsed": false,
    "ExecuteTime": {
     "end_time": "2024-08-22T15:30:39.398983Z",
     "start_time": "2024-08-22T15:30:39.393001Z"
    }
   },
   "id": "672a6649ef7f1ec6",
   "execution_count": 2
  },
  {
   "cell_type": "code",
   "outputs": [
    {
     "name": "stdout",
     "output_type": "stream",
     "text": [
      "We have found 7919 file to process.\n"
     ]
    }
   ],
   "source": [
    "n_cpus = 100\n",
    "usecase = 'fa' # 'fa' # 'ga'\n",
    "data_folder = '/shared/3/projects/relationship-aware-networks-wikipedia/wiki_generated_data/'\n",
    "output_folder = '/shared/3/projects/relationship-aware-networks-wikipedia/models'\n",
    "metadata_files_folder = opj(data_folder, 'meta_data')\n",
    "pickle_files_folder = opj(data_folder, 'article_assessment_objs', 'good_articles') \\\n",
    "    if usecase == 'ga' else opj(data_folder, 'article_assessment_objs', 'featured_articles')\n",
    "# in both cases of good/featured, we have to add the 'both' folder\n",
    "pickle_files_folder = [pickle_files_folder, opj(data_folder, 'article_assessment_objs', 'both')]\n",
    "pickle_files_path = sorted(list(itertools.chain(*[glob.glob(opj(pff, '*.p')) for pff in pickle_files_folder])))\n",
    "print(f\"We have found {len(pickle_files_path)} file to process.\")"
   ],
   "metadata": {
    "collapsed": false,
    "ExecuteTime": {
     "end_time": "2024-08-22T15:30:39.588385Z",
     "start_time": "2024-08-22T15:30:39.401760Z"
    }
   },
   "id": "d0728436980bdbbf",
   "execution_count": 3
  },
  {
   "cell_type": "code",
   "outputs": [],
   "source": [
    "input_for_pool = [(idx, fp) for idx, fp in enumerate(pickle_files_path)]\n",
    "pool = mp.Pool(processes=n_cpus)\n",
    "with pool as pool:\n",
    "    results = pool.starmap(extract_page_metadata, input_for_pool)\n",
    "gold_label_per_article = pd.DataFrame.from_dict(results)"
   ],
   "metadata": {
    "collapsed": false,
    "ExecuteTime": {
     "end_time": "2024-08-22T15:30:50.626347Z",
     "start_time": "2024-08-22T15:30:39.590841Z"
    }
   },
   "id": "5058a941327bd652",
   "execution_count": 4
  },
  {
   "cell_type": "code",
   "outputs": [
    {
     "name": "stdout",
     "output_type": "stream",
     "text": [
      "(24324, 6)\n"
     ]
    },
    {
     "data": {
      "text/plain": "   page_id      project_name importance  article_id  is_sustainable  \\\n0       25          Medicine        NaN          25           False   \n1       25        Disability        NaN          25           False   \n2      307  Military history        NaN         307           False   \n3      307     United States        top         307           False   \n4      307     U.S. Congress        mid         307           False   \n\n   is_sustainable_int  \n0                   0  \n1                   0  \n2                   0  \n3                   0  \n4                   0  ",
      "text/html": "<div>\n<style scoped>\n    .dataframe tbody tr th:only-of-type {\n        vertical-align: middle;\n    }\n\n    .dataframe tbody tr th {\n        vertical-align: top;\n    }\n\n    .dataframe thead th {\n        text-align: right;\n    }\n</style>\n<table border=\"1\" class=\"dataframe\">\n  <thead>\n    <tr style=\"text-align: right;\">\n      <th></th>\n      <th>page_id</th>\n      <th>project_name</th>\n      <th>importance</th>\n      <th>article_id</th>\n      <th>is_sustainable</th>\n      <th>is_sustainable_int</th>\n    </tr>\n  </thead>\n  <tbody>\n    <tr>\n      <th>0</th>\n      <td>25</td>\n      <td>Medicine</td>\n      <td>NaN</td>\n      <td>25</td>\n      <td>False</td>\n      <td>0</td>\n    </tr>\n    <tr>\n      <th>1</th>\n      <td>25</td>\n      <td>Disability</td>\n      <td>NaN</td>\n      <td>25</td>\n      <td>False</td>\n      <td>0</td>\n    </tr>\n    <tr>\n      <th>2</th>\n      <td>307</td>\n      <td>Military history</td>\n      <td>NaN</td>\n      <td>307</td>\n      <td>False</td>\n      <td>0</td>\n    </tr>\n    <tr>\n      <th>3</th>\n      <td>307</td>\n      <td>United States</td>\n      <td>top</td>\n      <td>307</td>\n      <td>False</td>\n      <td>0</td>\n    </tr>\n    <tr>\n      <th>4</th>\n      <td>307</td>\n      <td>U.S. Congress</td>\n      <td>mid</td>\n      <td>307</td>\n      <td>False</td>\n      <td>0</td>\n    </tr>\n  </tbody>\n</table>\n</div>"
     },
     "execution_count": 5,
     "metadata": {},
     "output_type": "execute_result"
    }
   ],
   "source": [
    "# importing the csv with the information about topics\n",
    "data_dir  = '/shared/3/projects/relationship-aware-networks-wikipedia/wikipedia_meta_data'\n",
    "topics_data = pd.read_csv(opj(data_dir, 'pages_project_name_importance_only_modeled_articles.csv'))\n",
    "# left join with the gold label\n",
    "merged_data = topics_data.merge(right=gold_label_per_article,how=\"inner\", left_on='page_id', right_on='article_id')\n",
    "merged_data['is_sustainable_int'] = [1 if md else 0 for md in merged_data['is_sustainable']]\n",
    "print(merged_data.shape)\n",
    "merged_data.head()"
   ],
   "metadata": {
    "collapsed": false,
    "ExecuteTime": {
     "end_time": "2024-08-22T15:30:50.775432Z",
     "start_time": "2024-08-22T15:30:50.632069Z"
    }
   },
   "id": "e4b9f9b82252b0c1",
   "execution_count": 5
  },
  {
   "cell_type": "code",
   "outputs": [],
   "source": [
    "# group by and counting to see if we see interesting topics\n",
    "per_topic_stats = merged_data.groupby('project_name').agg({'is_sustainable':'count', 'is_sustainable_int':'sum'})\n",
    "per_topic_stats.columns = ['overall_cnt', 'sustainable_cnt']\n",
    "per_topic_stats['sustainable_perc'] = per_topic_stats['sustainable_cnt'] / per_topic_stats['overall_cnt']\n",
    "per_topic_stats.sort_values(by='sustainable_perc', ascending=False, inplace=True)"
   ],
   "metadata": {
    "collapsed": false,
    "ExecuteTime": {
     "end_time": "2024-08-22T15:30:50.800215Z",
     "start_time": "2024-08-22T15:30:50.779081Z"
    }
   },
   "id": "79ca61df90b484da",
   "execution_count": 6
  },
  {
   "cell_type": "code",
   "outputs": [
    {
     "data": {
      "text/plain": "                         overall_cnt  sustainable_cnt  sustainable_perc\nproject_name                                                           \nRowing                            13               13          1.000000\nAlbania                            7                7          1.000000\nArticles for creation             13               13          1.000000\nUniversity of Cambridge           16               16          1.000000\nSnooker                           40               40          1.000000\n...                              ...              ...               ...\nOrganizations                     21               10          0.476190\nCities                           106               47          0.443396\nPsychology                        42               18          0.428571\nPakistan                          31               12          0.387097\nEurovision                         5                1          0.200000\n\n[250 rows x 3 columns]",
      "text/html": "<div>\n<style scoped>\n    .dataframe tbody tr th:only-of-type {\n        vertical-align: middle;\n    }\n\n    .dataframe tbody tr th {\n        vertical-align: top;\n    }\n\n    .dataframe thead th {\n        text-align: right;\n    }\n</style>\n<table border=\"1\" class=\"dataframe\">\n  <thead>\n    <tr style=\"text-align: right;\">\n      <th></th>\n      <th>overall_cnt</th>\n      <th>sustainable_cnt</th>\n      <th>sustainable_perc</th>\n    </tr>\n    <tr>\n      <th>project_name</th>\n      <th></th>\n      <th></th>\n      <th></th>\n    </tr>\n  </thead>\n  <tbody>\n    <tr>\n      <th>Rowing</th>\n      <td>13</td>\n      <td>13</td>\n      <td>1.000000</td>\n    </tr>\n    <tr>\n      <th>Albania</th>\n      <td>7</td>\n      <td>7</td>\n      <td>1.000000</td>\n    </tr>\n    <tr>\n      <th>Articles for creation</th>\n      <td>13</td>\n      <td>13</td>\n      <td>1.000000</td>\n    </tr>\n    <tr>\n      <th>University of Cambridge</th>\n      <td>16</td>\n      <td>16</td>\n      <td>1.000000</td>\n    </tr>\n    <tr>\n      <th>Snooker</th>\n      <td>40</td>\n      <td>40</td>\n      <td>1.000000</td>\n    </tr>\n    <tr>\n      <th>...</th>\n      <td>...</td>\n      <td>...</td>\n      <td>...</td>\n    </tr>\n    <tr>\n      <th>Organizations</th>\n      <td>21</td>\n      <td>10</td>\n      <td>0.476190</td>\n    </tr>\n    <tr>\n      <th>Cities</th>\n      <td>106</td>\n      <td>47</td>\n      <td>0.443396</td>\n    </tr>\n    <tr>\n      <th>Psychology</th>\n      <td>42</td>\n      <td>18</td>\n      <td>0.428571</td>\n    </tr>\n    <tr>\n      <th>Pakistan</th>\n      <td>31</td>\n      <td>12</td>\n      <td>0.387097</td>\n    </tr>\n    <tr>\n      <th>Eurovision</th>\n      <td>5</td>\n      <td>1</td>\n      <td>0.200000</td>\n    </tr>\n  </tbody>\n</table>\n<p>250 rows × 3 columns</p>\n</div>"
     },
     "execution_count": 48,
     "metadata": {},
     "output_type": "execute_result"
    }
   ],
   "source": [
    "per_topic_stats"
   ],
   "metadata": {
    "collapsed": false,
    "ExecuteTime": {
     "end_time": "2024-08-22T02:33:19.295842Z",
     "start_time": "2024-08-22T02:33:19.279151Z"
    }
   },
   "id": "4c37c9f35db513d7",
   "execution_count": 48
  }
 ],
 "metadata": {
  "kernelspec": {
   "display_name": "Python 3",
   "language": "python",
   "name": "python3"
  },
  "language_info": {
   "codemirror_mode": {
    "name": "ipython",
    "version": 2
   },
   "file_extension": ".py",
   "mimetype": "text/x-python",
   "name": "python",
   "nbconvert_exporter": "python",
   "pygments_lexer": "ipython2",
   "version": "2.7.6"
  }
 },
 "nbformat": 4,
 "nbformat_minor": 5
}
