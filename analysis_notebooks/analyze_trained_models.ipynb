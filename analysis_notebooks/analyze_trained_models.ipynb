{
 "cells": [
  {
   "cell_type": "markdown",
   "source": [
    "### Imports and configuration"
   ],
   "metadata": {
    "collapsed": false
   },
   "id": "aed59b761193aae0"
  },
  {
   "cell_type": "code",
   "execution_count": 1,
   "id": "initial_id",
   "metadata": {
    "collapsed": true,
    "ExecuteTime": {
     "end_time": "2024-10-14T17:06:36.504977Z",
     "start_time": "2024-10-14T17:06:35.389513Z"
    }
   },
   "outputs": [],
   "source": [
    "import pandas as pd\n",
    "import numpy as np\n",
    "from os.path import join as opj\n",
    "from collections import defaultdict, Counter\n",
    "\n",
    "import sys\n",
    "sys.path.append('/home/isabrah/sustainability_wikipedia/sustainable-high-quality-wikis')\n",
    "from modeling.modeling_utils import find_optimal_threshold, eval_classification_preds\n",
    "from sklearn.model_selection import StratifiedKFold, StratifiedShuffleSplit\n",
    "from sklearn.linear_model import LogisticRegression\n",
    "from sklearn.ensemble import GradientBoostingClassifier, RandomForestClassifier\n",
    "from sklearn.metrics import accuracy_score, precision_score, recall_score, f1_score, roc_auc_score, average_precision_score\n",
    "from sklearn.impute import SimpleImputer\n",
    "import statsmodels.api as sm\n",
    "import shap\n",
    "import seaborn as sns\n",
    "import matplotlib.pyplot as plt\n",
    "import json\n",
    "from copy import deepcopy\n",
    "from tqdm import tqdm"
   ]
  },
  {
   "cell_type": "markdown",
   "source": [
    "### Analysis #1 - predicting the newest promoted pages. Those that the model does not rely on while modeling"
   ],
   "metadata": {
    "collapsed": false
   },
   "id": "1fe5274bae91dfee"
  },
  {
   "cell_type": "code",
   "outputs": [],
   "source": [
    "model_version = 10.2 # 20.2 #use 10.2 for FA and 20.2 for GA \n",
    "target_column = 'is_sustainable_conservative_approach'#'is_sustained'\n",
    "model_folder = '/shared/3/projects/relationship-aware-networks-wikipedia/models'"
   ],
   "metadata": {
    "collapsed": false,
    "ExecuteTime": {
     "end_time": "2024-10-14T17:58:33.237827Z",
     "start_time": "2024-10-14T17:58:33.233423Z"
    }
   },
   "id": "34268e8c9b440c7b",
   "execution_count": 19
  },
  {
   "cell_type": "code",
   "outputs": [],
   "source": [
    "# loading the json file of the model (configurations)\n",
    "model_params_f_name = opj(model_folder, str(model_version), 'model_params.json')\n",
    "with open(model_params_f_name, 'r', encoding='utf-8') as infile:\n",
    "    model_info_dict = json.load(infile)\n",
    "    infile.close()\n",
    "usecase = model_info_dict['usecase']\n",
    "seed = int(model_info_dict['seed'])\n",
    "folds_k = int(model_info_dict['folds_k'])\n",
    "max_year_to_include = int(model_info_dict['max_year_to_include'])\n",
    "until_promotion = model_info_dict['until_promotion']\n",
    "max_revisions_to_use = model_info_dict['max_revisions_to_use']\n",
    "classification_model = deepcopy(eval(model_info_dict['classification_model']))"
   ],
   "metadata": {
    "collapsed": false,
    "ExecuteTime": {
     "end_time": "2024-10-14T17:58:35.491436Z",
     "start_time": "2024-10-14T17:58:35.480874Z"
    }
   },
   "id": "290c944008c25a80",
   "execution_count": 20
  },
  {
   "cell_type": "code",
   "outputs": [
    {
     "name": "stdout",
     "output_type": "stream",
     "text": [
      "Max year filter has been applied over the TRAIN dataset. Filtered dataset shape: (5814, 331).\n"
     ]
    }
   ],
   "source": [
    "# loading the data for modeling\n",
    "data_df = pd.read_csv(opj(model_folder, str(model_version), 'modeling_df.csv'))\n",
    "# Set the first column as the index\n",
    "data_df.set_index(data_df.columns[0], inplace=True)\n",
    "data_df[target_column] = data_df[target_column].astype(int)\n",
    "# filtering too new articles\n",
    "if max_year_to_include is not None:\n",
    "    train_df = data_df[data_df['TIME_promotion_year'] <= max_year_to_include].copy()\n",
    "    eval_df = data_df[data_df['TIME_promotion_year'] > max_year_to_include].copy()\n",
    "    print(f\"Max year filter has been applied over the TRAIN dataset. Filtered dataset shape: {train_df.shape}.\", flush=True)\n",
    "# all features that start with 'TIME_' should not be included in the modeling df\n",
    "x_columns = [c for c in train_df.columns if c != target_column and not c.startswith('TIME_')]"
   ],
   "metadata": {
    "collapsed": false,
    "ExecuteTime": {
     "end_time": "2024-10-14T17:58:42.811509Z",
     "start_time": "2024-10-14T17:58:42.551181Z"
    }
   },
   "id": "a5ce3a1f34b74d4a",
   "execution_count": 21
  },
  {
   "cell_type": "code",
   "outputs": [],
   "source": [
    "existing_columns = [c.replace('_', '-') for c in x_columns]\n",
    "feature_set = [c.split('-')[0] for c in existing_columns]\n",
    "feature_name = ['-'.join(c.split('-')[1:]) if not c.startswith('TOPIC') else '-'.join(c.split('-')[2:]) for c in existing_columns]"
   ],
   "metadata": {
    "collapsed": false,
    "ExecuteTime": {
     "end_time": "2024-10-14T18:07:45.692297Z",
     "start_time": "2024-10-14T18:07:45.682864Z"
    }
   },
   "id": "adfc891a2a9bd31d",
   "execution_count": 30
  },
  {
   "cell_type": "code",
   "outputs": [
    {
     "data": {
      "text/plain": "GradientBoostingClassifier()",
      "text/html": "<style>#sk-container-id-1 {\n  /* Definition of color scheme common for light and dark mode */\n  --sklearn-color-text: black;\n  --sklearn-color-line: gray;\n  /* Definition of color scheme for unfitted estimators */\n  --sklearn-color-unfitted-level-0: #fff5e6;\n  --sklearn-color-unfitted-level-1: #f6e4d2;\n  --sklearn-color-unfitted-level-2: #ffe0b3;\n  --sklearn-color-unfitted-level-3: chocolate;\n  /* Definition of color scheme for fitted estimators */\n  --sklearn-color-fitted-level-0: #f0f8ff;\n  --sklearn-color-fitted-level-1: #d4ebff;\n  --sklearn-color-fitted-level-2: #b3dbfd;\n  --sklearn-color-fitted-level-3: cornflowerblue;\n\n  /* Specific color for light theme */\n  --sklearn-color-text-on-default-background: var(--sg-text-color, var(--theme-code-foreground, var(--jp-content-font-color1, black)));\n  --sklearn-color-background: var(--sg-background-color, var(--theme-background, var(--jp-layout-color0, white)));\n  --sklearn-color-border-box: var(--sg-text-color, var(--theme-code-foreground, var(--jp-content-font-color1, black)));\n  --sklearn-color-icon: #696969;\n\n  @media (prefers-color-scheme: dark) {\n    /* Redefinition of color scheme for dark theme */\n    --sklearn-color-text-on-default-background: var(--sg-text-color, var(--theme-code-foreground, var(--jp-content-font-color1, white)));\n    --sklearn-color-background: var(--sg-background-color, var(--theme-background, var(--jp-layout-color0, #111)));\n    --sklearn-color-border-box: var(--sg-text-color, var(--theme-code-foreground, var(--jp-content-font-color1, white)));\n    --sklearn-color-icon: #878787;\n  }\n}\n\n#sk-container-id-1 {\n  color: var(--sklearn-color-text);\n}\n\n#sk-container-id-1 pre {\n  padding: 0;\n}\n\n#sk-container-id-1 input.sk-hidden--visually {\n  border: 0;\n  clip: rect(1px 1px 1px 1px);\n  clip: rect(1px, 1px, 1px, 1px);\n  height: 1px;\n  margin: -1px;\n  overflow: hidden;\n  padding: 0;\n  position: absolute;\n  width: 1px;\n}\n\n#sk-container-id-1 div.sk-dashed-wrapped {\n  border: 1px dashed var(--sklearn-color-line);\n  margin: 0 0.4em 0.5em 0.4em;\n  box-sizing: border-box;\n  padding-bottom: 0.4em;\n  background-color: var(--sklearn-color-background);\n}\n\n#sk-container-id-1 div.sk-container {\n  /* jupyter's `normalize.less` sets `[hidden] { display: none; }`\n     but bootstrap.min.css set `[hidden] { display: none !important; }`\n     so we also need the `!important` here to be able to override the\n     default hidden behavior on the sphinx rendered scikit-learn.org.\n     See: https://github.com/scikit-learn/scikit-learn/issues/21755 */\n  display: inline-block !important;\n  position: relative;\n}\n\n#sk-container-id-1 div.sk-text-repr-fallback {\n  display: none;\n}\n\ndiv.sk-parallel-item,\ndiv.sk-serial,\ndiv.sk-item {\n  /* draw centered vertical line to link estimators */\n  background-image: linear-gradient(var(--sklearn-color-text-on-default-background), var(--sklearn-color-text-on-default-background));\n  background-size: 2px 100%;\n  background-repeat: no-repeat;\n  background-position: center center;\n}\n\n/* Parallel-specific style estimator block */\n\n#sk-container-id-1 div.sk-parallel-item::after {\n  content: \"\";\n  width: 100%;\n  border-bottom: 2px solid var(--sklearn-color-text-on-default-background);\n  flex-grow: 1;\n}\n\n#sk-container-id-1 div.sk-parallel {\n  display: flex;\n  align-items: stretch;\n  justify-content: center;\n  background-color: var(--sklearn-color-background);\n  position: relative;\n}\n\n#sk-container-id-1 div.sk-parallel-item {\n  display: flex;\n  flex-direction: column;\n}\n\n#sk-container-id-1 div.sk-parallel-item:first-child::after {\n  align-self: flex-end;\n  width: 50%;\n}\n\n#sk-container-id-1 div.sk-parallel-item:last-child::after {\n  align-self: flex-start;\n  width: 50%;\n}\n\n#sk-container-id-1 div.sk-parallel-item:only-child::after {\n  width: 0;\n}\n\n/* Serial-specific style estimator block */\n\n#sk-container-id-1 div.sk-serial {\n  display: flex;\n  flex-direction: column;\n  align-items: center;\n  background-color: var(--sklearn-color-background);\n  padding-right: 1em;\n  padding-left: 1em;\n}\n\n\n/* Toggleable style: style used for estimator/Pipeline/ColumnTransformer box that is\nclickable and can be expanded/collapsed.\n- Pipeline and ColumnTransformer use this feature and define the default style\n- Estimators will overwrite some part of the style using the `sk-estimator` class\n*/\n\n/* Pipeline and ColumnTransformer style (default) */\n\n#sk-container-id-1 div.sk-toggleable {\n  /* Default theme specific background. It is overwritten whether we have a\n  specific estimator or a Pipeline/ColumnTransformer */\n  background-color: var(--sklearn-color-background);\n}\n\n/* Toggleable label */\n#sk-container-id-1 label.sk-toggleable__label {\n  cursor: pointer;\n  display: block;\n  width: 100%;\n  margin-bottom: 0;\n  padding: 0.5em;\n  box-sizing: border-box;\n  text-align: center;\n}\n\n#sk-container-id-1 label.sk-toggleable__label-arrow:before {\n  /* Arrow on the left of the label */\n  content: \"▸\";\n  float: left;\n  margin-right: 0.25em;\n  color: var(--sklearn-color-icon);\n}\n\n#sk-container-id-1 label.sk-toggleable__label-arrow:hover:before {\n  color: var(--sklearn-color-text);\n}\n\n/* Toggleable content - dropdown */\n\n#sk-container-id-1 div.sk-toggleable__content {\n  max-height: 0;\n  max-width: 0;\n  overflow: hidden;\n  text-align: left;\n  /* unfitted */\n  background-color: var(--sklearn-color-unfitted-level-0);\n}\n\n#sk-container-id-1 div.sk-toggleable__content.fitted {\n  /* fitted */\n  background-color: var(--sklearn-color-fitted-level-0);\n}\n\n#sk-container-id-1 div.sk-toggleable__content pre {\n  margin: 0.2em;\n  border-radius: 0.25em;\n  color: var(--sklearn-color-text);\n  /* unfitted */\n  background-color: var(--sklearn-color-unfitted-level-0);\n}\n\n#sk-container-id-1 div.sk-toggleable__content.fitted pre {\n  /* unfitted */\n  background-color: var(--sklearn-color-fitted-level-0);\n}\n\n#sk-container-id-1 input.sk-toggleable__control:checked~div.sk-toggleable__content {\n  /* Expand drop-down */\n  max-height: 200px;\n  max-width: 100%;\n  overflow: auto;\n}\n\n#sk-container-id-1 input.sk-toggleable__control:checked~label.sk-toggleable__label-arrow:before {\n  content: \"▾\";\n}\n\n/* Pipeline/ColumnTransformer-specific style */\n\n#sk-container-id-1 div.sk-label input.sk-toggleable__control:checked~label.sk-toggleable__label {\n  color: var(--sklearn-color-text);\n  background-color: var(--sklearn-color-unfitted-level-2);\n}\n\n#sk-container-id-1 div.sk-label.fitted input.sk-toggleable__control:checked~label.sk-toggleable__label {\n  background-color: var(--sklearn-color-fitted-level-2);\n}\n\n/* Estimator-specific style */\n\n/* Colorize estimator box */\n#sk-container-id-1 div.sk-estimator input.sk-toggleable__control:checked~label.sk-toggleable__label {\n  /* unfitted */\n  background-color: var(--sklearn-color-unfitted-level-2);\n}\n\n#sk-container-id-1 div.sk-estimator.fitted input.sk-toggleable__control:checked~label.sk-toggleable__label {\n  /* fitted */\n  background-color: var(--sklearn-color-fitted-level-2);\n}\n\n#sk-container-id-1 div.sk-label label.sk-toggleable__label,\n#sk-container-id-1 div.sk-label label {\n  /* The background is the default theme color */\n  color: var(--sklearn-color-text-on-default-background);\n}\n\n/* On hover, darken the color of the background */\n#sk-container-id-1 div.sk-label:hover label.sk-toggleable__label {\n  color: var(--sklearn-color-text);\n  background-color: var(--sklearn-color-unfitted-level-2);\n}\n\n/* Label box, darken color on hover, fitted */\n#sk-container-id-1 div.sk-label.fitted:hover label.sk-toggleable__label.fitted {\n  color: var(--sklearn-color-text);\n  background-color: var(--sklearn-color-fitted-level-2);\n}\n\n/* Estimator label */\n\n#sk-container-id-1 div.sk-label label {\n  font-family: monospace;\n  font-weight: bold;\n  display: inline-block;\n  line-height: 1.2em;\n}\n\n#sk-container-id-1 div.sk-label-container {\n  text-align: center;\n}\n\n/* Estimator-specific */\n#sk-container-id-1 div.sk-estimator {\n  font-family: monospace;\n  border: 1px dotted var(--sklearn-color-border-box);\n  border-radius: 0.25em;\n  box-sizing: border-box;\n  margin-bottom: 0.5em;\n  /* unfitted */\n  background-color: var(--sklearn-color-unfitted-level-0);\n}\n\n#sk-container-id-1 div.sk-estimator.fitted {\n  /* fitted */\n  background-color: var(--sklearn-color-fitted-level-0);\n}\n\n/* on hover */\n#sk-container-id-1 div.sk-estimator:hover {\n  /* unfitted */\n  background-color: var(--sklearn-color-unfitted-level-2);\n}\n\n#sk-container-id-1 div.sk-estimator.fitted:hover {\n  /* fitted */\n  background-color: var(--sklearn-color-fitted-level-2);\n}\n\n/* Specification for estimator info (e.g. \"i\" and \"?\") */\n\n/* Common style for \"i\" and \"?\" */\n\n.sk-estimator-doc-link,\na:link.sk-estimator-doc-link,\na:visited.sk-estimator-doc-link {\n  float: right;\n  font-size: smaller;\n  line-height: 1em;\n  font-family: monospace;\n  background-color: var(--sklearn-color-background);\n  border-radius: 1em;\n  height: 1em;\n  width: 1em;\n  text-decoration: none !important;\n  margin-left: 1ex;\n  /* unfitted */\n  border: var(--sklearn-color-unfitted-level-1) 1pt solid;\n  color: var(--sklearn-color-unfitted-level-1);\n}\n\n.sk-estimator-doc-link.fitted,\na:link.sk-estimator-doc-link.fitted,\na:visited.sk-estimator-doc-link.fitted {\n  /* fitted */\n  border: var(--sklearn-color-fitted-level-1) 1pt solid;\n  color: var(--sklearn-color-fitted-level-1);\n}\n\n/* On hover */\ndiv.sk-estimator:hover .sk-estimator-doc-link:hover,\n.sk-estimator-doc-link:hover,\ndiv.sk-label-container:hover .sk-estimator-doc-link:hover,\n.sk-estimator-doc-link:hover {\n  /* unfitted */\n  background-color: var(--sklearn-color-unfitted-level-3);\n  color: var(--sklearn-color-background);\n  text-decoration: none;\n}\n\ndiv.sk-estimator.fitted:hover .sk-estimator-doc-link.fitted:hover,\n.sk-estimator-doc-link.fitted:hover,\ndiv.sk-label-container:hover .sk-estimator-doc-link.fitted:hover,\n.sk-estimator-doc-link.fitted:hover {\n  /* fitted */\n  background-color: var(--sklearn-color-fitted-level-3);\n  color: var(--sklearn-color-background);\n  text-decoration: none;\n}\n\n/* Span, style for the box shown on hovering the info icon */\n.sk-estimator-doc-link span {\n  display: none;\n  z-index: 9999;\n  position: relative;\n  font-weight: normal;\n  right: .2ex;\n  padding: .5ex;\n  margin: .5ex;\n  width: min-content;\n  min-width: 20ex;\n  max-width: 50ex;\n  color: var(--sklearn-color-text);\n  box-shadow: 2pt 2pt 4pt #999;\n  /* unfitted */\n  background: var(--sklearn-color-unfitted-level-0);\n  border: .5pt solid var(--sklearn-color-unfitted-level-3);\n}\n\n.sk-estimator-doc-link.fitted span {\n  /* fitted */\n  background: var(--sklearn-color-fitted-level-0);\n  border: var(--sklearn-color-fitted-level-3);\n}\n\n.sk-estimator-doc-link:hover span {\n  display: block;\n}\n\n/* \"?\"-specific style due to the `<a>` HTML tag */\n\n#sk-container-id-1 a.estimator_doc_link {\n  float: right;\n  font-size: 1rem;\n  line-height: 1em;\n  font-family: monospace;\n  background-color: var(--sklearn-color-background);\n  border-radius: 1rem;\n  height: 1rem;\n  width: 1rem;\n  text-decoration: none;\n  /* unfitted */\n  color: var(--sklearn-color-unfitted-level-1);\n  border: var(--sklearn-color-unfitted-level-1) 1pt solid;\n}\n\n#sk-container-id-1 a.estimator_doc_link.fitted {\n  /* fitted */\n  border: var(--sklearn-color-fitted-level-1) 1pt solid;\n  color: var(--sklearn-color-fitted-level-1);\n}\n\n/* On hover */\n#sk-container-id-1 a.estimator_doc_link:hover {\n  /* unfitted */\n  background-color: var(--sklearn-color-unfitted-level-3);\n  color: var(--sklearn-color-background);\n  text-decoration: none;\n}\n\n#sk-container-id-1 a.estimator_doc_link.fitted:hover {\n  /* fitted */\n  background-color: var(--sklearn-color-fitted-level-3);\n}\n</style><div id=\"sk-container-id-1\" class=\"sk-top-container\"><div class=\"sk-text-repr-fallback\"><pre>GradientBoostingClassifier()</pre><b>In a Jupyter environment, please rerun this cell to show the HTML representation or trust the notebook. <br />On GitHub, the HTML representation is unable to render, please try loading this page with nbviewer.org.</b></div><div class=\"sk-container\" hidden><div class=\"sk-item\"><div class=\"sk-estimator fitted sk-toggleable\"><input class=\"sk-toggleable__control sk-hidden--visually\" id=\"sk-estimator-id-1\" type=\"checkbox\" checked><label for=\"sk-estimator-id-1\" class=\"sk-toggleable__label fitted sk-toggleable__label-arrow fitted\">&nbsp;&nbsp;GradientBoostingClassifier<a class=\"sk-estimator-doc-link fitted\" rel=\"noreferrer\" target=\"_blank\" href=\"https://scikit-learn.org/1.4/modules/generated/sklearn.ensemble.GradientBoostingClassifier.html\">?<span>Documentation for GradientBoostingClassifier</span></a><span class=\"sk-estimator-doc-link fitted\">i<span>Fitted</span></span></label><div class=\"sk-toggleable__content fitted\"><pre>GradientBoostingClassifier()</pre></div> </div></div></div></div>"
     },
     "execution_count": 6,
     "metadata": {},
     "output_type": "execute_result"
    }
   ],
   "source": [
    "x_train_data = train_df[x_columns].copy()\n",
    "y_train_data = train_df[target_column]\n",
    "x_eval_data = eval_df[x_columns].copy()\n",
    "y_eval_data = eval_df[target_column]\n",
    "\n",
    "# filling up the missing values\n",
    "# filling the missing values with the mean\n",
    "imputer = SimpleImputer(strategy='mean')\n",
    "\n",
    "# Fit the imputer on the training data and transform both train and test sets\n",
    "x_train_imputed = pd.DataFrame(imputer.fit_transform(x_train_data), columns=x_train_data.columns).copy()\n",
    "x_eval_imputed = pd.DataFrame(imputer.transform(x_eval_data), columns=x_eval_data.columns).copy()\n",
    "# load the data again to make sure it is a fresh new one and not already trained\n",
    "classification_model = deepcopy(eval(model_info_dict['classification_model']))\n",
    "classification_model.fit(x_train_imputed, list(y_train_data))"
   ],
   "metadata": {
    "collapsed": false,
    "ExecuteTime": {
     "end_time": "2024-10-11T16:07:12.058076Z",
     "start_time": "2024-10-11T16:06:59.171332Z"
    }
   },
   "id": "208b76f64a82e52b",
   "execution_count": 6
  },
  {
   "cell_type": "code",
   "outputs": [],
   "source": [
    "y_eval_pred_proba = classification_model.predict_proba(x_eval_imputed)[:, 1]\n",
    "eval_df['pred'] = y_eval_pred_proba\n",
    "eval_df.sort_values(by='pred', inplace=True, ascending=True)\n",
    "top_x_to_take = 1651 if usecase=='ga' else 140 #5%\n",
    "top_x_predicted_unsustained = eval_df.iloc[0:top_x_to_take][['TIME_promotion_date', 'TIME_demotion_date', target_column, 'pred']].copy()"
   ],
   "metadata": {
    "collapsed": false,
    "ExecuteTime": {
     "end_time": "2024-10-11T16:07:15.719523Z",
     "start_time": "2024-10-11T16:07:15.683111Z"
    }
   },
   "id": "dc8212a3ac67101",
   "execution_count": 7
  },
  {
   "cell_type": "code",
   "outputs": [
    {
     "data": {
      "text/plain": "0.014285714285714235"
     },
     "execution_count": 8,
     "metadata": {},
     "output_type": "execute_result"
    }
   ],
   "source": [
    "1 - sum(top_x_predicted_unsustained[target_column]) / top_x_to_take"
   ],
   "metadata": {
    "collapsed": false,
    "ExecuteTime": {
     "end_time": "2024-10-11T16:07:17.348141Z",
     "start_time": "2024-10-11T16:07:17.339069Z"
    }
   },
   "id": "d0dbada8dd29aa65",
   "execution_count": 8
  },
  {
   "cell_type": "code",
   "outputs": [
    {
     "data": {
      "text/plain": "            TIME_promotion_date TIME_demotion_date  \\\nUnnamed: 0                                           \n45051683    2019-11-13 00:00:00                NaN   \n67512396    2022-10-11 00:00:00                NaN   \n28222625    2020-05-24 00:00:00                NaN   \n55728902    2021-03-20 00:00:00                NaN   \n54611700    2020-11-27 00:00:00                NaN   \n...                         ...                ...   \n71003165    2022-12-26 00:00:00                NaN   \n28269       2023-05-07 00:00:00                NaN   \n61608937    2020-10-23 00:00:00                NaN   \n22433       2020-07-30 00:00:00                NaN   \n59575510    2019-06-01 00:00:00                NaN   \n\n            is_sustainable_conservative_approach      pred  \nUnnamed: 0                                                  \n45051683                                       1  0.531254  \n67512396                                       1  0.537335  \n28222625                                       1  0.547243  \n55728902                                       1  0.574877  \n54611700                                       1  0.584372  \n...                                          ...       ...  \n71003165                                       1  0.938003  \n28269                                          1  0.938154  \n61608937                                       1  0.938333  \n22433                                          1  0.938590  \n59575510                                       1  0.939000  \n\n[140 rows x 4 columns]",
      "text/html": "<div>\n<style scoped>\n    .dataframe tbody tr th:only-of-type {\n        vertical-align: middle;\n    }\n\n    .dataframe tbody tr th {\n        vertical-align: top;\n    }\n\n    .dataframe thead th {\n        text-align: right;\n    }\n</style>\n<table border=\"1\" class=\"dataframe\">\n  <thead>\n    <tr style=\"text-align: right;\">\n      <th></th>\n      <th>TIME_promotion_date</th>\n      <th>TIME_demotion_date</th>\n      <th>is_sustainable_conservative_approach</th>\n      <th>pred</th>\n    </tr>\n    <tr>\n      <th>Unnamed: 0</th>\n      <th></th>\n      <th></th>\n      <th></th>\n      <th></th>\n    </tr>\n  </thead>\n  <tbody>\n    <tr>\n      <th>45051683</th>\n      <td>2019-11-13 00:00:00</td>\n      <td>NaN</td>\n      <td>1</td>\n      <td>0.531254</td>\n    </tr>\n    <tr>\n      <th>67512396</th>\n      <td>2022-10-11 00:00:00</td>\n      <td>NaN</td>\n      <td>1</td>\n      <td>0.537335</td>\n    </tr>\n    <tr>\n      <th>28222625</th>\n      <td>2020-05-24 00:00:00</td>\n      <td>NaN</td>\n      <td>1</td>\n      <td>0.547243</td>\n    </tr>\n    <tr>\n      <th>55728902</th>\n      <td>2021-03-20 00:00:00</td>\n      <td>NaN</td>\n      <td>1</td>\n      <td>0.574877</td>\n    </tr>\n    <tr>\n      <th>54611700</th>\n      <td>2020-11-27 00:00:00</td>\n      <td>NaN</td>\n      <td>1</td>\n      <td>0.584372</td>\n    </tr>\n    <tr>\n      <th>...</th>\n      <td>...</td>\n      <td>...</td>\n      <td>...</td>\n      <td>...</td>\n    </tr>\n    <tr>\n      <th>71003165</th>\n      <td>2022-12-26 00:00:00</td>\n      <td>NaN</td>\n      <td>1</td>\n      <td>0.938003</td>\n    </tr>\n    <tr>\n      <th>28269</th>\n      <td>2023-05-07 00:00:00</td>\n      <td>NaN</td>\n      <td>1</td>\n      <td>0.938154</td>\n    </tr>\n    <tr>\n      <th>61608937</th>\n      <td>2020-10-23 00:00:00</td>\n      <td>NaN</td>\n      <td>1</td>\n      <td>0.938333</td>\n    </tr>\n    <tr>\n      <th>22433</th>\n      <td>2020-07-30 00:00:00</td>\n      <td>NaN</td>\n      <td>1</td>\n      <td>0.938590</td>\n    </tr>\n    <tr>\n      <th>59575510</th>\n      <td>2019-06-01 00:00:00</td>\n      <td>NaN</td>\n      <td>1</td>\n      <td>0.939000</td>\n    </tr>\n  </tbody>\n</table>\n<p>140 rows × 4 columns</p>\n</div>"
     },
     "execution_count": 11,
     "metadata": {},
     "output_type": "execute_result"
    }
   ],
   "source": [
    "top_x_predicted_unsustained"
   ],
   "metadata": {
    "collapsed": false,
    "ExecuteTime": {
     "end_time": "2024-10-11T16:08:12.591517Z",
     "start_time": "2024-10-11T16:08:12.579560Z"
    }
   },
   "id": "60fc812ff3bd4804",
   "execution_count": 11
  },
  {
   "cell_type": "code",
   "outputs": [
    {
     "data": {
      "text/plain": "            TIME_promotion_date   TIME_demotion_date  \\\nUnnamed: 0                                             \n59602196    2019-10-12 00:00:00  2023-12-30 00:00:00   \n18621887    2021-03-27 00:00:00  2022-02-26 23:17:50   \n\n            is_sustainable_conservative_approach      pred  \nUnnamed: 0                                                  \n59602196                                       0  0.886981  \n18621887                                       0  0.892377  ",
      "text/html": "<div>\n<style scoped>\n    .dataframe tbody tr th:only-of-type {\n        vertical-align: middle;\n    }\n\n    .dataframe tbody tr th {\n        vertical-align: top;\n    }\n\n    .dataframe thead th {\n        text-align: right;\n    }\n</style>\n<table border=\"1\" class=\"dataframe\">\n  <thead>\n    <tr style=\"text-align: right;\">\n      <th></th>\n      <th>TIME_promotion_date</th>\n      <th>TIME_demotion_date</th>\n      <th>is_sustainable_conservative_approach</th>\n      <th>pred</th>\n    </tr>\n    <tr>\n      <th>Unnamed: 0</th>\n      <th></th>\n      <th></th>\n      <th></th>\n      <th></th>\n    </tr>\n  </thead>\n  <tbody>\n    <tr>\n      <th>59602196</th>\n      <td>2019-10-12 00:00:00</td>\n      <td>2023-12-30 00:00:00</td>\n      <td>0</td>\n      <td>0.886981</td>\n    </tr>\n    <tr>\n      <th>18621887</th>\n      <td>2021-03-27 00:00:00</td>\n      <td>2022-02-26 23:17:50</td>\n      <td>0</td>\n      <td>0.892377</td>\n    </tr>\n  </tbody>\n</table>\n</div>"
     },
     "execution_count": 10,
     "metadata": {},
     "output_type": "execute_result"
    }
   ],
   "source": [
    "top_x_predicted_unsustained[top_x_predicted_unsustained[target_column]==0]"
   ],
   "metadata": {
    "collapsed": false,
    "ExecuteTime": {
     "end_time": "2024-10-11T16:07:58.093259Z",
     "start_time": "2024-10-11T16:07:58.074516Z"
    }
   },
   "id": "ba43158e8745c3dd",
   "execution_count": 10
  },
  {
   "cell_type": "code",
   "outputs": [
    {
     "data": {
      "text/plain": "Counter({True: 7669, False: 102})"
     },
     "execution_count": 30,
     "metadata": {},
     "output_type": "execute_result"
    }
   ],
   "source": [
    "# I have seen two main issues that might cause the wired things we see. I am going to handle those two.\n",
    "# first issue - no demotion date, but sustained=0\n",
    "demotion_and_label_aligned = [False if demotion_is_na and gold_label==0 else True for demotion_is_na, gold_label in zip(data_df['TIME_demotion_date'].isna(), data_df[target_column])]\n",
    "Counter(demotion_and_label_aligned)"
   ],
   "metadata": {
    "collapsed": false,
    "ExecuteTime": {
     "end_time": "2024-09-20T18:23:33.677032Z",
     "start_time": "2024-09-20T18:23:33.661913Z"
    }
   },
   "id": "f215ef5820119793",
   "execution_count": 30
  },
  {
   "cell_type": "code",
   "outputs": [
    {
     "data": {
      "text/plain": "Counter({True: 7681, False: 90})"
     },
     "execution_count": 31,
     "metadata": {},
     "output_type": "execute_result"
    }
   ],
   "source": [
    "# second issue - time in promotion does not make sense (too short)\n",
    "promotion_column = pd.to_datetime(data_df['TIME_promotion_date'])\n",
    "demotion_column = pd.to_datetime(data_df['TIME_demotion_date'])\n",
    "# Calculate the difference in days\n",
    "time_in_promotion = (demotion_column - promotion_column).dt.days\n",
    "reasonable_time_in_promotion = [False if t <= 30 else True for t in time_in_promotion]\n",
    "Counter(reasonable_time_in_promotion)"
   ],
   "metadata": {
    "collapsed": false,
    "ExecuteTime": {
     "end_time": "2024-09-20T18:24:13.267846Z",
     "start_time": "2024-09-20T18:24:13.244021Z"
    }
   },
   "id": "cb6e417c9f0ceb22",
   "execution_count": 31
  },
  {
   "cell_type": "code",
   "outputs": [
    {
     "data": {
      "text/plain": "(7579, 332)"
     },
     "execution_count": 41,
     "metadata": {},
     "output_type": "execute_result"
    }
   ],
   "source": [
    "# now we'll have to get rid of both... this will be implemented in the production code!\n",
    "mask1 = pd.Series(reasonable_time_in_promotion, index=data_df.index)\n",
    "mask2 = pd.Series(demotion_and_label_aligned, index=data_df.index)\n",
    "# Combine the masks using bitwise AND (&) or OR (|) depending on your filtering logic\n",
    "combined_mask = mask1 & mask2  # Use | if you want to keep rows where either condition is True\n",
    "\n",
    "# Apply the mask to the DataFrame\n",
    "data_df_clean = data_df[combined_mask].copy()"
   ],
   "metadata": {
    "collapsed": false,
    "ExecuteTime": {
     "end_time": "2024-09-20T18:32:22.190764Z",
     "start_time": "2024-09-20T18:32:22.162476Z"
    }
   },
   "id": "4937f180ee3e89fc",
   "execution_count": 41
  },
  {
   "cell_type": "markdown",
   "source": [
    "### Analysis #2 - error analysis (where the model is False positive or False negative)"
   ],
   "metadata": {
    "collapsed": false
   },
   "id": "1132547cc222e202"
  },
  {
   "cell_type": "code",
   "outputs": [],
   "source": [
    "model_version = 10.2 # 20.2 #use 10.2 for FA and 20.2 for GA \n",
    "# BE CAREFUL HERE!\n",
    "usecase = 'fa' if model_version==10.2 else 'ga'\n",
    "target_column = 'is_sustainable_conservative_approach'#'is_sustained'\n",
    "model_folder = '/shared/3/projects/relationship-aware-networks-wikipedia/models'\n",
    "data_folder = '/shared/3/projects/relationship-aware-networks-wikipedia/wiki_generated_data/'\n",
    "metadata_files_folder = opj(data_folder, 'meta_data')"
   ],
   "metadata": {
    "collapsed": false,
    "ExecuteTime": {
     "end_time": "2024-09-27T18:28:08.746433Z",
     "start_time": "2024-09-27T18:28:08.741792Z"
    }
   },
   "id": "6449e0d3a26c7daa",
   "execution_count": 175
  },
  {
   "cell_type": "code",
   "outputs": [],
   "source": [
    "modeling_df = pd.read_csv(opj(model_folder, str(model_version), 'modeling_df.csv'))\n",
    "row_lvl_preds = pd.read_csv(opj(model_folder, str(model_version), 'row_lvl_preds.csv'))\n",
    "# Set the first column as the index\n",
    "modeling_df.set_index(modeling_df.columns[0], inplace=True)\n",
    "row_lvl_preds.set_index(row_lvl_preds.columns[0], inplace=True)\n",
    "row_lvl_preds.columns = ['pred']"
   ],
   "metadata": {
    "collapsed": false,
    "ExecuteTime": {
     "end_time": "2024-09-27T18:28:10.934733Z",
     "start_time": "2024-09-27T18:28:10.564639Z"
    }
   },
   "id": "ed02fb2a46ec5f0e",
   "execution_count": 176
  },
  {
   "cell_type": "code",
   "outputs": [],
   "source": [
    "modeling_df_concise = modeling_df[[target_column, 'TIME_promotion_date']]\n",
    "# merge the two\n",
    "merged_dfs = pd.merge(modeling_df_concise, row_lvl_preds, left_index=True, right_index=True, how='inner')\n",
    "merged_dfs.rename_axis(\"page_id\", axis=\"index\", inplace=True)\n",
    "merged_dfs.sort_values(by='pred',inplace=True)"
   ],
   "metadata": {
    "collapsed": false,
    "ExecuteTime": {
     "end_time": "2024-09-27T18:28:12.181245Z",
     "start_time": "2024-09-27T18:28:12.162571Z"
    }
   },
   "id": "5289266f99e13a88",
   "execution_count": 177
  },
  {
   "cell_type": "code",
   "outputs": [],
   "source": [
    "# extract the top X false negative (dynamic)\n",
    "top_x = 50\n",
    "top_x_false_negative = merged_dfs[merged_dfs[target_column]==False][0:top_x].copy()\n",
    "top_x_page_ids = list(top_x_false_negative.index)"
   ],
   "metadata": {
    "collapsed": false,
    "ExecuteTime": {
     "end_time": "2024-09-27T18:28:13.797133Z",
     "start_time": "2024-09-27T18:28:13.790512Z"
    }
   },
   "id": "c2e1fca5e4cd4971",
   "execution_count": 178
  },
  {
   "cell_type": "code",
   "outputs": [],
   "source": [
    "# now, we're analyzing these specific X pages, to see how many reviews they have been gone through\n",
    "# load the data to analyze this king of data\n",
    "events_df = pd.read_csv(opj(metadata_files_folder, 'article_events_from_latest_talkpages.csv'))\n",
    "if usecase == 'fa':\n",
    "    false_negative_review_events = events_df[(events_df['page_id'].isin(set(top_x_page_ids))) & (events_df['action'].isin({'far'}))].copy()\n",
    "    all_population_review_events = events_df[events_df['action'].isin({'far'})].copy()\n",
    "    demoted_pages = events_df[(events_df['action'].isin({'far'})) & (events_df['result'].isin({'demoted', 'fail'}))]['page_id']\n",
    "    all_demoted_review_events = events_df[(events_df['action'].isin({'far'})) & (events_df['page_id'].isin(demoted_pages))]\n",
    "    all_population_promotion_events = events_df[(events_df['action'].isin({'fac'})) & (events_df['result'].isin({'promoted'}))]\n",
    "    \n",
    "elif usecase == 'ga':\n",
    "    false_negative_review_events = events_df[(events_df['page_id'].isin(set(top_x_page_ids))) & (events_df['action'].isin({'gar'}))].copy()\n",
    "    all_population_review_events = events_df[events_df['action'].isin({'gar'})].copy()\n",
    "    demoted_pages = events_df[(events_df['action'].isin({'gar'})) & (events_df['result'].isin({'delisted', 'fail'}))]['page_id']\n",
    "    # the GA is special, a page can go through GA and then FA and then demoted\n",
    "    demoted_pages2 = events_df[(events_df['action'].isin({'far'})) & (events_df['result'].isin({'demoted', 'fail'}))]['page_id']\n",
    "    demoted_pages = list(demoted_pages) + list(demoted_pages2)\n",
    "    all_demoted_review_events = events_df[(events_df['action'].isin({'gar'})) & (events_df['page_id'].isin(demoted_pages))]\n",
    "    all_population_promotion_events = events_df[(events_df['action'].isin({'gan'})) & (events_df['result'].isin({'listed'}))]"
   ],
   "metadata": {
    "collapsed": false,
    "ExecuteTime": {
     "end_time": "2024-09-27T18:28:15.636094Z",
     "start_time": "2024-09-27T18:28:15.250196Z"
    }
   },
   "id": "44780a4f30f42a05",
   "execution_count": 179
  },
  {
   "cell_type": "markdown",
   "source": [
    "#### Barplot of the distribution"
   ],
   "metadata": {
    "collapsed": false
   },
   "id": "1acd6c6c495cd1b5"
  },
  {
   "cell_type": "code",
   "outputs": [],
   "source": [
    "# we will create a dataframe for each case\n",
    "false_negatives_dict_for_plot = dict()\n",
    "for p_id in top_x_page_ids:\n",
    "    was_reviewed = True if p_id in false_negative_review_events['page_id'] else False\n",
    "    num_reviews = false_negative_review_events[false_negative_review_events['page_id'] == p_id].shape[0]\n",
    "    false_negatives_dict_for_plot[p_id] = {'was_reviewed': was_reviewed, 'num_reviews': num_reviews}\n",
    "\n",
    "all_population_dict_for_plot = dict()\n",
    "for p_id in set(all_population_promotion_events['page_id']):\n",
    "    was_reviewed = True if p_id in set(all_population_review_events['page_id']) else False\n",
    "    num_reviews = all_population_review_events[all_population_review_events['page_id'] == p_id].shape[0]\n",
    "    all_population_dict_for_plot[p_id] = {'was_reviewed': was_reviewed, 'num_reviews': num_reviews}\n",
    "\n",
    "demoted_population_dict_for_plot = dict()\n",
    "for p_id in set(demoted_pages):\n",
    "    was_reviewed = True if p_id in set(all_demoted_review_events['page_id']) else False\n",
    "    num_reviews = all_demoted_review_events[all_demoted_review_events['page_id'] == p_id].shape[0]\n",
    "    demoted_population_dict_for_plot[p_id] = {'was_reviewed': was_reviewed, 'num_reviews': num_reviews}"
   ],
   "metadata": {
    "collapsed": false,
    "ExecuteTime": {
     "end_time": "2024-09-27T18:28:24.403768Z",
     "start_time": "2024-09-27T18:28:17.862315Z"
    }
   },
   "id": "2f160203a279ec29",
   "execution_count": 180
  },
  {
   "cell_type": "code",
   "outputs": [],
   "source": [
    "demoted_population_df_for_plot = pd.DataFrame.from_dict(demoted_population_dict_for_plot, orient='index')\n",
    "demoted_population_df_for_plot['group'] = 'Unsustainable'\n",
    "false_negatives_df_for_plot = pd.DataFrame.from_dict(false_negatives_dict_for_plot, orient='index')\n",
    "false_negatives_df_for_plot['group'] = 'Suspected Unsustainable'\n",
    "all_population_df_for_plot = pd.DataFrame.from_dict(all_population_dict_for_plot, orient='index')\n",
    "all_population_df_for_plot['group'] = 'All Population'"
   ],
   "metadata": {
    "collapsed": false,
    "ExecuteTime": {
     "end_time": "2024-09-27T18:28:26.377537Z",
     "start_time": "2024-09-27T18:28:26.353434Z"
    }
   },
   "id": "bb80dcaaf47bad9f",
   "execution_count": 181
  },
  {
   "cell_type": "code",
   "outputs": [
    {
     "data": {
      "text/plain": "         was_reviewed  num_reviews          group\n4456451          True            1  Unsustainable\n2465797          True            1  Unsustainable\n980998           True            1  Unsustainable\n210952           True            1  Unsustainable\n86025            True            1  Unsustainable",
      "text/html": "<div>\n<style scoped>\n    .dataframe tbody tr th:only-of-type {\n        vertical-align: middle;\n    }\n\n    .dataframe tbody tr th {\n        vertical-align: top;\n    }\n\n    .dataframe thead th {\n        text-align: right;\n    }\n</style>\n<table border=\"1\" class=\"dataframe\">\n  <thead>\n    <tr style=\"text-align: right;\">\n      <th></th>\n      <th>was_reviewed</th>\n      <th>num_reviews</th>\n      <th>group</th>\n    </tr>\n  </thead>\n  <tbody>\n    <tr>\n      <th>4456451</th>\n      <td>True</td>\n      <td>1</td>\n      <td>Unsustainable</td>\n    </tr>\n    <tr>\n      <th>2465797</th>\n      <td>True</td>\n      <td>1</td>\n      <td>Unsustainable</td>\n    </tr>\n    <tr>\n      <th>980998</th>\n      <td>True</td>\n      <td>1</td>\n      <td>Unsustainable</td>\n    </tr>\n    <tr>\n      <th>210952</th>\n      <td>True</td>\n      <td>1</td>\n      <td>Unsustainable</td>\n    </tr>\n    <tr>\n      <th>86025</th>\n      <td>True</td>\n      <td>1</td>\n      <td>Unsustainable</td>\n    </tr>\n  </tbody>\n</table>\n</div>"
     },
     "execution_count": 182,
     "metadata": {},
     "output_type": "execute_result"
    }
   ],
   "source": [
    "# Combine the two DataFrames\n",
    "combined_df = pd.concat([demoted_population_df_for_plot, false_negatives_df_for_plot, all_population_df_for_plot])\n",
    "combined_df.head()"
   ],
   "metadata": {
    "collapsed": false,
    "ExecuteTime": {
     "end_time": "2024-09-27T18:28:28.278240Z",
     "start_time": "2024-09-27T18:28:28.265778Z"
    }
   },
   "id": "dd1bd93202692566",
   "execution_count": 182
  },
  {
   "cell_type": "code",
   "outputs": [
    {
     "data": {
      "text/plain": "<Figure size 640x480 with 1 Axes>",
      "image/png": "[encoded data removed]"
     },
     "metadata": {},
     "output_type": "display_data"
    }
   ],
   "source": [
    "column_tp_plot = 'num_reviews' #was_reviewed' #num_reviews'\n",
    "# Plot using seaborn\n",
    "sns.barplot(x='group', y=column_tp_plot, data=combined_df, errorbar=\"ci\")\n",
    "\n",
    "# Add labels and title\n",
    "plt.ylabel(column_tp_plot)\n",
    "plt.title(f'Comparison of {column_tp_plot} Between three populations')\n",
    "\n",
    "# Show the plot\n",
    "plt.show()"
   ],
   "metadata": {
    "collapsed": false,
    "ExecuteTime": {
     "end_time": "2024-09-27T18:28:30.539465Z",
     "start_time": "2024-09-27T18:28:30.099812Z"
    }
   },
   "id": "1ba03b9934b4bf45",
   "execution_count": 183
  },
  {
   "cell_type": "code",
   "outputs": [
    {
     "ename": "ValueError",
     "evalue": "All arrays must be of the same length",
     "output_type": "error",
     "traceback": [
      "\u001B[0;31m---------------------------------------------------------------------------\u001B[0m",
      "\u001B[0;31mValueError\u001B[0m                                Traceback (most recent call last)",
      "Cell \u001B[0;32mIn[58], line 1\u001B[0m\n\u001B[0;32m----> 1\u001B[0m sns\u001B[38;5;241m.\u001B[39mbarplot(pd\u001B[38;5;241m.\u001B[39mDataFrame\u001B[38;5;241m.\u001B[39mfrom_dict({\u001B[38;5;124m'\u001B[39m\u001B[38;5;124mSuspected Unsustainable\u001B[39m\u001B[38;5;124m'\u001B[39m: \u001B[38;5;28mlist\u001B[39m(false_negatives_df_for_plot[\u001B[38;5;124m'\u001B[39m\u001B[38;5;124mwas_reviewed\u001B[39m\u001B[38;5;124m'\u001B[39m]),\n\u001B[1;32m      2\u001B[0m                           \u001B[38;5;124m'\u001B[39m\u001B[38;5;124mAll Promoted\u001B[39m\u001B[38;5;124m'\u001B[39m: \u001B[38;5;28mlist\u001B[39m(all_population_df_for_plot[\u001B[38;5;124m'\u001B[39m\u001B[38;5;124mwas_reviewed\u001B[39m\u001B[38;5;124m'\u001B[39m])}), errorbar\u001B[38;5;241m=\u001B[39m(\u001B[38;5;124m\"\u001B[39m\u001B[38;5;124mci\u001B[39m\u001B[38;5;124m\"\u001B[39m))\n",
      "File \u001B[0;32m/opt/anaconda/lib/python3.11/site-packages/pandas/core/frame.py:1917\u001B[0m, in \u001B[0;36mDataFrame.from_dict\u001B[0;34m(cls, data, orient, dtype, columns)\u001B[0m\n\u001B[1;32m   1911\u001B[0m     \u001B[38;5;28;01mraise\u001B[39;00m \u001B[38;5;167;01mValueError\u001B[39;00m(\n\u001B[1;32m   1912\u001B[0m         \u001B[38;5;124mf\u001B[39m\u001B[38;5;124m\"\u001B[39m\u001B[38;5;124mExpected \u001B[39m\u001B[38;5;124m'\u001B[39m\u001B[38;5;124mindex\u001B[39m\u001B[38;5;124m'\u001B[39m\u001B[38;5;124m, \u001B[39m\u001B[38;5;124m'\u001B[39m\u001B[38;5;124mcolumns\u001B[39m\u001B[38;5;124m'\u001B[39m\u001B[38;5;124m or \u001B[39m\u001B[38;5;124m'\u001B[39m\u001B[38;5;124mtight\u001B[39m\u001B[38;5;124m'\u001B[39m\u001B[38;5;124m for orient parameter. \u001B[39m\u001B[38;5;124m\"\u001B[39m\n\u001B[1;32m   1913\u001B[0m         \u001B[38;5;124mf\u001B[39m\u001B[38;5;124m\"\u001B[39m\u001B[38;5;124mGot \u001B[39m\u001B[38;5;124m'\u001B[39m\u001B[38;5;132;01m{\u001B[39;00morient\u001B[38;5;132;01m}\u001B[39;00m\u001B[38;5;124m'\u001B[39m\u001B[38;5;124m instead\u001B[39m\u001B[38;5;124m\"\u001B[39m\n\u001B[1;32m   1914\u001B[0m     )\n\u001B[1;32m   1916\u001B[0m \u001B[38;5;28;01mif\u001B[39;00m orient \u001B[38;5;241m!=\u001B[39m \u001B[38;5;124m\"\u001B[39m\u001B[38;5;124mtight\u001B[39m\u001B[38;5;124m\"\u001B[39m:\n\u001B[0;32m-> 1917\u001B[0m     \u001B[38;5;28;01mreturn\u001B[39;00m \u001B[38;5;28mcls\u001B[39m(data, index\u001B[38;5;241m=\u001B[39mindex, columns\u001B[38;5;241m=\u001B[39mcolumns, dtype\u001B[38;5;241m=\u001B[39mdtype)\n\u001B[1;32m   1918\u001B[0m \u001B[38;5;28;01melse\u001B[39;00m:\n\u001B[1;32m   1919\u001B[0m     realdata \u001B[38;5;241m=\u001B[39m data[\u001B[38;5;124m\"\u001B[39m\u001B[38;5;124mdata\u001B[39m\u001B[38;5;124m\"\u001B[39m]\n",
      "File \u001B[0;32m/opt/anaconda/lib/python3.11/site-packages/pandas/core/frame.py:778\u001B[0m, in \u001B[0;36mDataFrame.__init__\u001B[0;34m(self, data, index, columns, dtype, copy)\u001B[0m\n\u001B[1;32m    772\u001B[0m     mgr \u001B[38;5;241m=\u001B[39m \u001B[38;5;28mself\u001B[39m\u001B[38;5;241m.\u001B[39m_init_mgr(\n\u001B[1;32m    773\u001B[0m         data, axes\u001B[38;5;241m=\u001B[39m{\u001B[38;5;124m\"\u001B[39m\u001B[38;5;124mindex\u001B[39m\u001B[38;5;124m\"\u001B[39m: index, \u001B[38;5;124m\"\u001B[39m\u001B[38;5;124mcolumns\u001B[39m\u001B[38;5;124m\"\u001B[39m: columns}, dtype\u001B[38;5;241m=\u001B[39mdtype, copy\u001B[38;5;241m=\u001B[39mcopy\n\u001B[1;32m    774\u001B[0m     )\n\u001B[1;32m    776\u001B[0m \u001B[38;5;28;01melif\u001B[39;00m \u001B[38;5;28misinstance\u001B[39m(data, \u001B[38;5;28mdict\u001B[39m):\n\u001B[1;32m    777\u001B[0m     \u001B[38;5;66;03m# GH#38939 de facto copy defaults to False only in non-dict cases\u001B[39;00m\n\u001B[0;32m--> 778\u001B[0m     mgr \u001B[38;5;241m=\u001B[39m dict_to_mgr(data, index, columns, dtype\u001B[38;5;241m=\u001B[39mdtype, copy\u001B[38;5;241m=\u001B[39mcopy, typ\u001B[38;5;241m=\u001B[39mmanager)\n\u001B[1;32m    779\u001B[0m \u001B[38;5;28;01melif\u001B[39;00m \u001B[38;5;28misinstance\u001B[39m(data, ma\u001B[38;5;241m.\u001B[39mMaskedArray):\n\u001B[1;32m    780\u001B[0m     \u001B[38;5;28;01mfrom\u001B[39;00m \u001B[38;5;21;01mnumpy\u001B[39;00m\u001B[38;5;21;01m.\u001B[39;00m\u001B[38;5;21;01mma\u001B[39;00m \u001B[38;5;28;01mimport\u001B[39;00m mrecords\n",
      "File \u001B[0;32m/opt/anaconda/lib/python3.11/site-packages/pandas/core/internals/construction.py:503\u001B[0m, in \u001B[0;36mdict_to_mgr\u001B[0;34m(data, index, columns, dtype, typ, copy)\u001B[0m\n\u001B[1;32m    499\u001B[0m     \u001B[38;5;28;01melse\u001B[39;00m:\n\u001B[1;32m    500\u001B[0m         \u001B[38;5;66;03m# dtype check to exclude e.g. range objects, scalars\u001B[39;00m\n\u001B[1;32m    501\u001B[0m         arrays \u001B[38;5;241m=\u001B[39m [x\u001B[38;5;241m.\u001B[39mcopy() \u001B[38;5;28;01mif\u001B[39;00m \u001B[38;5;28mhasattr\u001B[39m(x, \u001B[38;5;124m\"\u001B[39m\u001B[38;5;124mdtype\u001B[39m\u001B[38;5;124m\"\u001B[39m) \u001B[38;5;28;01melse\u001B[39;00m x \u001B[38;5;28;01mfor\u001B[39;00m x \u001B[38;5;129;01min\u001B[39;00m arrays]\n\u001B[0;32m--> 503\u001B[0m \u001B[38;5;28;01mreturn\u001B[39;00m arrays_to_mgr(arrays, columns, index, dtype\u001B[38;5;241m=\u001B[39mdtype, typ\u001B[38;5;241m=\u001B[39mtyp, consolidate\u001B[38;5;241m=\u001B[39mcopy)\n",
      "File \u001B[0;32m/opt/anaconda/lib/python3.11/site-packages/pandas/core/internals/construction.py:114\u001B[0m, in \u001B[0;36marrays_to_mgr\u001B[0;34m(arrays, columns, index, dtype, verify_integrity, typ, consolidate)\u001B[0m\n\u001B[1;32m    111\u001B[0m \u001B[38;5;28;01mif\u001B[39;00m verify_integrity:\n\u001B[1;32m    112\u001B[0m     \u001B[38;5;66;03m# figure out the index, if necessary\u001B[39;00m\n\u001B[1;32m    113\u001B[0m     \u001B[38;5;28;01mif\u001B[39;00m index \u001B[38;5;129;01mis\u001B[39;00m \u001B[38;5;28;01mNone\u001B[39;00m:\n\u001B[0;32m--> 114\u001B[0m         index \u001B[38;5;241m=\u001B[39m _extract_index(arrays)\n\u001B[1;32m    115\u001B[0m     \u001B[38;5;28;01melse\u001B[39;00m:\n\u001B[1;32m    116\u001B[0m         index \u001B[38;5;241m=\u001B[39m ensure_index(index)\n",
      "File \u001B[0;32m/opt/anaconda/lib/python3.11/site-packages/pandas/core/internals/construction.py:677\u001B[0m, in \u001B[0;36m_extract_index\u001B[0;34m(data)\u001B[0m\n\u001B[1;32m    675\u001B[0m lengths \u001B[38;5;241m=\u001B[39m \u001B[38;5;28mlist\u001B[39m(\u001B[38;5;28mset\u001B[39m(raw_lengths))\n\u001B[1;32m    676\u001B[0m \u001B[38;5;28;01mif\u001B[39;00m \u001B[38;5;28mlen\u001B[39m(lengths) \u001B[38;5;241m>\u001B[39m \u001B[38;5;241m1\u001B[39m:\n\u001B[0;32m--> 677\u001B[0m     \u001B[38;5;28;01mraise\u001B[39;00m \u001B[38;5;167;01mValueError\u001B[39;00m(\u001B[38;5;124m\"\u001B[39m\u001B[38;5;124mAll arrays must be of the same length\u001B[39m\u001B[38;5;124m\"\u001B[39m)\n\u001B[1;32m    679\u001B[0m \u001B[38;5;28;01mif\u001B[39;00m have_dicts:\n\u001B[1;32m    680\u001B[0m     \u001B[38;5;28;01mraise\u001B[39;00m \u001B[38;5;167;01mValueError\u001B[39;00m(\n\u001B[1;32m    681\u001B[0m         \u001B[38;5;124m\"\u001B[39m\u001B[38;5;124mMixing dicts with non-Series may lead to ambiguous ordering.\u001B[39m\u001B[38;5;124m\"\u001B[39m\n\u001B[1;32m    682\u001B[0m     )\n",
      "\u001B[0;31mValueError\u001B[0m: All arrays must be of the same length"
     ]
    }
   ],
   "source": [
    "sns.barplot(pd.DataFrame.from_dict({'Suspected Unsustainable': list(false_negatives_df_for_plot['was_reviewed']),\n",
    "                          'All Promoted': list(all_population_df_for_plot['was_reviewed'])}), errorbar=(\"ci\"))"
   ],
   "metadata": {
    "collapsed": false,
    "ExecuteTime": {
     "end_time": "2024-09-27T17:24:16.610369Z",
     "start_time": "2024-09-27T17:24:15.393165Z"
    }
   },
   "id": "405203e13054dc3",
   "execution_count": 58
  },
  {
   "cell_type": "code",
   "outputs": [
    {
     "data": {
      "text/plain": "(56, 6)"
     },
     "execution_count": 51,
     "metadata": {},
     "output_type": "execute_result"
    }
   ],
   "source": [
    "false_negative_review_events.shape"
   ],
   "metadata": {
    "collapsed": false,
    "ExecuteTime": {
     "end_time": "2024-09-27T17:06:56.798228Z",
     "start_time": "2024-09-27T17:06:56.790710Z"
    }
   },
   "id": "d55440df6cb79966",
   "execution_count": 51
  },
  {
   "cell_type": "code",
   "outputs": [
    {
     "data": {
      "text/plain": "(4622, 6)"
     },
     "execution_count": 52,
     "metadata": {},
     "output_type": "execute_result"
    }
   ],
   "source": [
    "all_population_review_events.shape"
   ],
   "metadata": {
    "collapsed": false,
    "ExecuteTime": {
     "end_time": "2024-09-27T17:07:10.658390Z",
     "start_time": "2024-09-27T17:07:10.650448Z"
    }
   },
   "id": "3c54f87b44242c14",
   "execution_count": 52
  },
  {
   "cell_type": "code",
   "outputs": [
    {
     "data": {
      "text/plain": "39196"
     },
     "execution_count": 53,
     "metadata": {},
     "output_type": "execute_result"
    }
   ],
   "source": [
    "all_population_articles_promoted"
   ],
   "metadata": {
    "collapsed": false,
    "ExecuteTime": {
     "end_time": "2024-09-27T17:07:29.402235Z",
     "start_time": "2024-09-27T17:07:29.390769Z"
    }
   },
   "id": "66275152475ccc9c",
   "execution_count": 53
  },
  {
   "cell_type": "markdown",
   "source": [
    "### Analysis #3: Regression coefficients"
   ],
   "metadata": {
    "collapsed": false
   },
   "id": "7048ae6f58baaf9d"
  },
  {
   "cell_type": "code",
   "outputs": [],
   "source": [
    "model_version = 10.2#10.02#1.99 #1.2\n",
    "target_column = 'is_sustainable_conservative_approach'#'is_sustained'\n",
    "model_folder = '/shared/3/projects/relationship-aware-networks-wikipedia/models'\n",
    "seed = 1984\n",
    "classification_model = LogisticRegression()"
   ],
   "metadata": {
    "collapsed": false,
    "ExecuteTime": {
     "end_time": "2024-09-26T14:54:23.434670Z",
     "start_time": "2024-09-26T14:54:23.430424Z"
    }
   },
   "id": "7032b592f591f2a8",
   "execution_count": 18
  },
  {
   "cell_type": "code",
   "outputs": [],
   "source": [
    "# loading the json file of the model (configurations)\n",
    "model_params_f_name = opj(model_folder, str(model_version), 'model_params.json')\n",
    "with open(model_params_f_name, 'r', encoding='utf-8') as infile:\n",
    "    model_info_dict = json.load(infile)\n",
    "    infile.close()\n",
    "usecase = model_info_dict['usecase']\n",
    "max_year_to_include = int(model_info_dict['max_year_to_include'])\n",
    "until_promotion = model_info_dict['until_promotion']"
   ],
   "metadata": {
    "collapsed": false,
    "ExecuteTime": {
     "end_time": "2024-09-26T14:54:24.748506Z",
     "start_time": "2024-09-26T14:54:24.702378Z"
    }
   },
   "id": "8d0b17dff438abd9",
   "execution_count": 19
  },
  {
   "cell_type": "code",
   "outputs": [
    {
     "name": "stdout",
     "output_type": "stream",
     "text": [
      "Max year filter has been applied over the TRAIN dataset. Filtered dataset shape: (5814, 331).\n"
     ]
    }
   ],
   "source": [
    "# loading the data for modeling\n",
    "data_df = pd.read_csv(opj(model_folder, str(model_version), 'modeling_df.csv'))\n",
    "# Set the first column as the index\n",
    "data_df.set_index(data_df.columns[0], inplace=True)\n",
    "data_df[target_column] = data_df[target_column].astype(int)\n",
    "# filtering too new articles\n",
    "if max_year_to_include is not None:\n",
    "    train_df = data_df[data_df['TIME_promotion_year'] <= max_year_to_include].copy()\n",
    "    print(f\"Max year filter has been applied over the TRAIN dataset. Filtered dataset shape: {train_df.shape}.\", flush=True)\n",
    "# all features that start with 'TIME_' should not be included in the modeling df\n",
    "x_columns = [c for c in train_df.columns if c != target_column and not c.startswith('TIME_')]"
   ],
   "metadata": {
    "collapsed": false,
    "ExecuteTime": {
     "end_time": "2024-09-26T15:10:39.939741Z",
     "start_time": "2024-09-26T15:10:39.655947Z"
    }
   },
   "id": "6936c7ed9d34e776",
   "execution_count": 43
  },
  {
   "cell_type": "code",
   "outputs": [],
   "source": [
    "# filling up the missing values\n",
    "# filling the missing values with the mean\n",
    "imputer = SimpleImputer(strategy='mean')\n",
    "\n",
    "x_train_data = train_df[x_columns].copy()\n",
    "y_train_data = train_df[target_column].copy()\n",
    "\n",
    "# Fit the imputer on the training data and transform both train and test sets\n",
    "x_train_imputed = pd.DataFrame(imputer.fit_transform(x_train_data), columns=x_train_data.columns).copy()"
   ],
   "metadata": {
    "collapsed": false,
    "ExecuteTime": {
     "end_time": "2024-09-26T15:10:45.801334Z",
     "start_time": "2024-09-26T15:10:45.490187Z"
    }
   },
   "id": "374cce24dde32e14",
   "execution_count": 44
  },
  {
   "cell_type": "code",
   "outputs": [
    {
     "name": "stderr",
     "output_type": "stream",
     "text": [
      "100%|██████████| 326/326 [00:02<00:00, 137.95it/s]\n"
     ]
    }
   ],
   "source": [
    "reg_res = dict()\n",
    "# looping over each column and extracting the relevant info\n",
    "for c in tqdm(x_columns):\n",
    "    # Create the model\n",
    "    model = LogisticRegression()\n",
    "    feature_to_use = c\n",
    "    \n",
    "    # Train the model\n",
    "    model.fit(x_train_imputed[[feature_to_use]], y_train_data)\n",
    "    \n",
    "    # Add a constant to the features (intercept term)\n",
    "    X_train_const = sm.add_constant(x_train_imputed[[feature_to_use]])\n",
    "    \n",
    "    # Fit the logistic regression model using statsmodels\n",
    "    try:\n",
    "        logit_model = sm.Logit(y_train_data, X_train_const.astype(float))\n",
    "        result = logit_model.fit(maxiter=100, warn_convergence=False)\n",
    "    except Exception as e:\n",
    "        continue\n",
    "    coef_pvalues = result.summary().tables[1]  # Get the second table from the summary (index 1)\n",
    "    coef_pvalues_df = pd.DataFrame(coef_pvalues.data[1:], columns=coef_pvalues.data[0])\n",
    "    cur_p_value = float(coef_pvalues_df.iloc[1]['P>|z|'])\n",
    "    cur_coef = float(coef_pvalues_df.iloc[1]['coef'])\n",
    "    reg_res[feature_to_use] = {'coef': cur_coef, 'p_value': cur_p_value}\n",
    "reg_res_df = pd.DataFrame.from_dict(reg_res, orient='index')"
   ],
   "metadata": {
    "collapsed": false,
    "ExecuteTime": {
     "end_time": "2024-09-26T15:10:55.316732Z",
     "start_time": "2024-09-26T15:10:52.936270Z"
    }
   },
   "id": "a38453b5d7c5e23",
   "execution_count": 45
  },
  {
   "cell_type": "code",
   "outputs": [
    {
     "data": {
      "text/plain": "Empty DataFrame\nColumns: []\nIndex: []",
      "text/html": "<div>\n<style scoped>\n    .dataframe tbody tr th:only-of-type {\n        vertical-align: middle;\n    }\n\n    .dataframe tbody tr th {\n        vertical-align: top;\n    }\n\n    .dataframe thead th {\n        text-align: right;\n    }\n</style>\n<table border=\"1\" class=\"dataframe\">\n  <thead>\n    <tr style=\"text-align: right;\">\n      <th></th>\n    </tr>\n  </thead>\n  <tbody>\n  </tbody>\n</table>\n</div>"
     },
     "execution_count": 46,
     "metadata": {},
     "output_type": "execute_result"
    }
   ],
   "source": [
    "reg_res_df\n",
    "#reg_res_df[(reg_res_df.index.str.startswith('topic')) & (reg_res_df['p_value'] < 0.01)]"
   ],
   "metadata": {
    "collapsed": false,
    "ExecuteTime": {
     "end_time": "2024-09-26T15:10:57.229334Z",
     "start_time": "2024-09-26T15:10:57.219697Z"
    }
   },
   "id": "98fee1934a5d5429",
   "execution_count": 46
  },
  {
   "cell_type": "markdown",
   "source": [
    "### Doing the same, this time with all features we have in hand"
   ],
   "metadata": {
    "collapsed": false
   },
   "id": "f601d84ecbaf165b"
  },
  {
   "cell_type": "code",
   "outputs": [],
   "source": [
    "# The following features have been removed since they did not allow the reg to converge\n",
    "#'TOPIC_119_kent', 'TOPIC_120_soviet_union'\n",
    "x_columns_for_now = x_columns[0:210] + x_columns[323:]\n",
    "x_columns_for_now = [c for c in x_columns_for_now if c not in {'TOPIC_119_kent', 'TOPIC_120_soviet_union', 'TOPIC_121_disability', 'TOPIC_122_plants', 'TOPIC_123_ice_hockey'}]\n",
    "x_data = data_df[x_columns_for_now]\n",
    "# fill in missing values\n",
    "x_data = x_data.fillna(x_data.mean())\n",
    "y_data = data_df[target_column]\n",
    "strat_split = StratifiedShuffleSplit(n_splits=1, test_size=0.001, random_state=seed)\n",
    "\n",
    "# Generate train/test indices\n",
    "train_index, test_index = next(strat_split.split(x_data, y_data))\n",
    "\n",
    "# Create the train/test splits\n",
    "X_train, X_test = x_data.iloc[train_index], x_data.iloc[test_index]\n",
    "y_train, y_test = y_data.iloc[train_index], y_data.iloc[test_index]"
   ],
   "metadata": {
    "collapsed": false,
    "ExecuteTime": {
     "end_time": "2024-09-26T15:49:52.443946Z",
     "start_time": "2024-09-26T15:49:52.299261Z"
    }
   },
   "id": "3a304142fdb9b790",
   "execution_count": 96
  },
  {
   "cell_type": "code",
   "outputs": [
    {
     "name": "stderr",
     "output_type": "stream",
     "text": [
      "/opt/anaconda/lib/python3.11/site-packages/sklearn/linear_model/_logistic.py:469: ConvergenceWarning: lbfgs failed to converge (status=1):\n",
      "STOP: TOTAL NO. of ITERATIONS REACHED LIMIT.\n",
      "\n",
      "Increase the number of iterations (max_iter) or scale the data as shown in:\n",
      "    https://scikit-learn.org/stable/modules/preprocessing.html\n",
      "Please also refer to the documentation for alternative solver options:\n",
      "    https://scikit-learn.org/stable/modules/linear_model.html#logistic-regression\n",
      "  n_iter_i = _check_optimize_result(\n"
     ]
    },
    {
     "name": "stdout",
     "output_type": "stream",
     "text": [
      "Warning: Maximum number of iterations has been exceeded.\n",
      "         Current function value: 0.240295\n",
      "         Iterations: 300\n"
     ]
    }
   ],
   "source": [
    "# Create the model\n",
    "model = LogisticRegression()\n",
    "feature_to_use = x_columns\n",
    "\n",
    "# Train the model\n",
    "model.fit(X_train, y_train)\n",
    "\n",
    "# Add a constant to the features (intercept term)\n",
    "X_train_const = sm.add_constant(X_train)\n",
    "\n",
    "# Fit the logistic regression model using statsmodels\n",
    "logit_model = sm.Logit(y_train, X_train_const.astype(float))\n",
    "result = logit_model.fit(maxiter=300, warn_convergence=False)"
   ],
   "metadata": {
    "collapsed": false,
    "ExecuteTime": {
     "end_time": "2024-09-26T15:51:34.506613Z",
     "start_time": "2024-09-26T15:49:59.167346Z"
    }
   },
   "id": "45eebf824398d901",
   "execution_count": 97
  },
  {
   "cell_type": "code",
   "outputs": [],
   "source": [
    "#result.summary()"
   ],
   "metadata": {
    "collapsed": false,
    "ExecuteTime": {
     "end_time": "2024-09-26T16:00:31.799618Z",
     "start_time": "2024-09-26T16:00:31.794847Z"
    }
   },
   "id": "c4e150223a49c8df",
   "execution_count": 103
  },
  {
   "cell_type": "code",
   "outputs": [
    {
     "data": {
      "text/plain": "                                    Coef.  Std.Err.         z         P>|z|  \\\nEDIT_num_revisions_normalized   -0.000497  0.000099 -5.012461  5.373838e-07   \nEDIT_time_to_promotion           0.000863  0.000089  9.711892  2.683090e-22   \nSPECIAL_used_to_be_good_article  0.290383  0.076684  3.786760  1.526247e-04   \nNETWORK_closeness_stdev         -8.812366  2.183326 -4.036212  5.432114e-05   \nNETWORK_in_deg_stdev             0.514723  0.195727  2.629801  8.543483e-03   \nEDIT_reverts_perc                3.791617  1.237756  3.063300  2.189108e-03   \nDISCUSSIONS_num_discussions     -0.024261  0.007844 -3.092950  1.981777e-03   \nCREDIBILITY_unweighted_score    -5.202308  0.799759 -6.504845  7.777355e-11   \nEXPERIENCE_unweighted_score      5.705873  0.763548  7.472845  7.847929e-14   \nTOPIC_7_video_games              0.343229  0.091148  3.765638  1.661244e-04   \nTOPIC_8_middle_ages              0.326744  0.122249  2.672760  7.523007e-03   \nTOPIC_10_television              0.262087  0.100169  2.616450  8.884948e-03   \nTOPIC_18_africa                 -0.330288  0.096973 -3.405981  6.592672e-04   \nTOPIC_23_albums                  0.578661  0.131439  4.402497  1.070119e-05   \nTOPIC_31_india                  -0.384763  0.106291 -3.619895  2.947224e-04   \nTOPIC_39_palaeontology           1.604590  0.614606  2.610760  9.034121e-03   \nTOPIC_47_russia                 -0.283513  0.099947 -2.836618  4.559406e-03   \nTOPIC_61_cities                 -0.422531  0.114665 -3.684914  2.287796e-04   \nTOPIC_79_uk_geography           -0.645542  0.190140 -3.395096  6.860458e-04   \nTOPIC_83_higher_education       -0.577616  0.140081 -4.123450  3.732400e-05   \n\n                                    [0.025    0.975]  \nEDIT_num_revisions_normalized    -0.000691 -0.000302  \nEDIT_time_to_promotion            0.000689  0.001037  \nSPECIAL_used_to_be_good_article   0.140086  0.440681  \nNETWORK_closeness_stdev         -13.091607 -4.533126  \nNETWORK_in_deg_stdev              0.131105  0.898341  \nEDIT_reverts_perc                 1.365660  6.217574  \nDISCUSSIONS_num_discussions      -0.039636 -0.008887  \nCREDIBILITY_unweighted_score     -6.769807 -3.634809  \nEXPERIENCE_unweighted_score       4.209348  7.202399  \nTOPIC_7_video_games               0.164583  0.521875  \nTOPIC_8_middle_ages               0.087139  0.566348  \nTOPIC_10_television               0.065759  0.458414  \nTOPIC_18_africa                  -0.520352 -0.140225  \nTOPIC_23_albums                   0.321045  0.836277  \nTOPIC_31_india                   -0.593090 -0.176436  \nTOPIC_39_palaeontology            0.399983  2.809196  \nTOPIC_47_russia                  -0.479406 -0.087619  \nTOPIC_61_cities                  -0.647271 -0.197792  \nTOPIC_79_uk_geography            -1.018209 -0.272875  \nTOPIC_83_higher_education        -0.852170 -0.303063  ",
      "text/html": "<div>\n<style scoped>\n    .dataframe tbody tr th:only-of-type {\n        vertical-align: middle;\n    }\n\n    .dataframe tbody tr th {\n        vertical-align: top;\n    }\n\n    .dataframe thead th {\n        text-align: right;\n    }\n</style>\n<table border=\"1\" class=\"dataframe\">\n  <thead>\n    <tr style=\"text-align: right;\">\n      <th></th>\n      <th>Coef.</th>\n      <th>Std.Err.</th>\n      <th>z</th>\n      <th>P&gt;|z|</th>\n      <th>[0.025</th>\n      <th>0.975]</th>\n    </tr>\n  </thead>\n  <tbody>\n    <tr>\n      <th>EDIT_num_revisions_normalized</th>\n      <td>-0.000497</td>\n      <td>0.000099</td>\n      <td>-5.012461</td>\n      <td>5.373838e-07</td>\n      <td>-0.000691</td>\n      <td>-0.000302</td>\n    </tr>\n    <tr>\n      <th>EDIT_time_to_promotion</th>\n      <td>0.000863</td>\n      <td>0.000089</td>\n      <td>9.711892</td>\n      <td>2.683090e-22</td>\n      <td>0.000689</td>\n      <td>0.001037</td>\n    </tr>\n    <tr>\n      <th>SPECIAL_used_to_be_good_article</th>\n      <td>0.290383</td>\n      <td>0.076684</td>\n      <td>3.786760</td>\n      <td>1.526247e-04</td>\n      <td>0.140086</td>\n      <td>0.440681</td>\n    </tr>\n    <tr>\n      <th>NETWORK_closeness_stdev</th>\n      <td>-8.812366</td>\n      <td>2.183326</td>\n      <td>-4.036212</td>\n      <td>5.432114e-05</td>\n      <td>-13.091607</td>\n      <td>-4.533126</td>\n    </tr>\n    <tr>\n      <th>NETWORK_in_deg_stdev</th>\n      <td>0.514723</td>\n      <td>0.195727</td>\n      <td>2.629801</td>\n      <td>8.543483e-03</td>\n      <td>0.131105</td>\n      <td>0.898341</td>\n    </tr>\n    <tr>\n      <th>EDIT_reverts_perc</th>\n      <td>3.791617</td>\n      <td>1.237756</td>\n      <td>3.063300</td>\n      <td>2.189108e-03</td>\n      <td>1.365660</td>\n      <td>6.217574</td>\n    </tr>\n    <tr>\n      <th>DISCUSSIONS_num_discussions</th>\n      <td>-0.024261</td>\n      <td>0.007844</td>\n      <td>-3.092950</td>\n      <td>1.981777e-03</td>\n      <td>-0.039636</td>\n      <td>-0.008887</td>\n    </tr>\n    <tr>\n      <th>CREDIBILITY_unweighted_score</th>\n      <td>-5.202308</td>\n      <td>0.799759</td>\n      <td>-6.504845</td>\n      <td>7.777355e-11</td>\n      <td>-6.769807</td>\n      <td>-3.634809</td>\n    </tr>\n    <tr>\n      <th>EXPERIENCE_unweighted_score</th>\n      <td>5.705873</td>\n      <td>0.763548</td>\n      <td>7.472845</td>\n      <td>7.847929e-14</td>\n      <td>4.209348</td>\n      <td>7.202399</td>\n    </tr>\n    <tr>\n      <th>TOPIC_7_video_games</th>\n      <td>0.343229</td>\n      <td>0.091148</td>\n      <td>3.765638</td>\n      <td>1.661244e-04</td>\n      <td>0.164583</td>\n      <td>0.521875</td>\n    </tr>\n    <tr>\n      <th>TOPIC_8_middle_ages</th>\n      <td>0.326744</td>\n      <td>0.122249</td>\n      <td>2.672760</td>\n      <td>7.523007e-03</td>\n      <td>0.087139</td>\n      <td>0.566348</td>\n    </tr>\n    <tr>\n      <th>TOPIC_10_television</th>\n      <td>0.262087</td>\n      <td>0.100169</td>\n      <td>2.616450</td>\n      <td>8.884948e-03</td>\n      <td>0.065759</td>\n      <td>0.458414</td>\n    </tr>\n    <tr>\n      <th>TOPIC_18_africa</th>\n      <td>-0.330288</td>\n      <td>0.096973</td>\n      <td>-3.405981</td>\n      <td>6.592672e-04</td>\n      <td>-0.520352</td>\n      <td>-0.140225</td>\n    </tr>\n    <tr>\n      <th>TOPIC_23_albums</th>\n      <td>0.578661</td>\n      <td>0.131439</td>\n      <td>4.402497</td>\n      <td>1.070119e-05</td>\n      <td>0.321045</td>\n      <td>0.836277</td>\n    </tr>\n    <tr>\n      <th>TOPIC_31_india</th>\n      <td>-0.384763</td>\n      <td>0.106291</td>\n      <td>-3.619895</td>\n      <td>2.947224e-04</td>\n      <td>-0.593090</td>\n      <td>-0.176436</td>\n    </tr>\n    <tr>\n      <th>TOPIC_39_palaeontology</th>\n      <td>1.604590</td>\n      <td>0.614606</td>\n      <td>2.610760</td>\n      <td>9.034121e-03</td>\n      <td>0.399983</td>\n      <td>2.809196</td>\n    </tr>\n    <tr>\n      <th>TOPIC_47_russia</th>\n      <td>-0.283513</td>\n      <td>0.099947</td>\n      <td>-2.836618</td>\n      <td>4.559406e-03</td>\n      <td>-0.479406</td>\n      <td>-0.087619</td>\n    </tr>\n    <tr>\n      <th>TOPIC_61_cities</th>\n      <td>-0.422531</td>\n      <td>0.114665</td>\n      <td>-3.684914</td>\n      <td>2.287796e-04</td>\n      <td>-0.647271</td>\n      <td>-0.197792</td>\n    </tr>\n    <tr>\n      <th>TOPIC_79_uk_geography</th>\n      <td>-0.645542</td>\n      <td>0.190140</td>\n      <td>-3.395096</td>\n      <td>6.860458e-04</td>\n      <td>-1.018209</td>\n      <td>-0.272875</td>\n    </tr>\n    <tr>\n      <th>TOPIC_83_higher_education</th>\n      <td>-0.577616</td>\n      <td>0.140081</td>\n      <td>-4.123450</td>\n      <td>3.732400e-05</td>\n      <td>-0.852170</td>\n      <td>-0.303063</td>\n    </tr>\n  </tbody>\n</table>\n</div>"
     },
     "metadata": {},
     "output_type": "display_data"
    }
   ],
   "source": [
    "# printing only the significant features\n",
    "# Set the significance level (e.g., 0.05)\n",
    "significance_level = 0.01\n",
    "\n",
    "# Get the summary table as a DataFrame\n",
    "summary_table = result.summary2().tables[1]\n",
    "\n",
    "# Filter the rows where p-value is less than the significance level\n",
    "significant_summary_table = summary_table[summary_table['P>|z|'] < significance_level].copy()\n",
    "\n",
    "# Print the summary table only for significant features\n",
    "display(significant_summary_table)"
   ],
   "metadata": {
    "collapsed": false,
    "ExecuteTime": {
     "end_time": "2024-09-26T15:58:54.689163Z",
     "start_time": "2024-09-26T15:58:54.667825Z"
    }
   },
   "id": "310a6c564c89a0b5",
   "execution_count": 102
  },
  {
   "cell_type": "markdown",
   "source": [
    "## CV Process"
   ],
   "metadata": {
    "collapsed": false
   },
   "id": "517adf8efd3d70d3"
  },
  {
   "cell_type": "code",
   "outputs": [],
   "source": [
    "model_version = 2.2#20.02\n",
    "use_only_meta_features = False\n",
    "target_column = 'is_sustained'\n",
    "model_folder = '/shared/3/projects/relationship-aware-networks-wikipedia/models'\n",
    "seed = 1984\n",
    "folds_k = 5\n",
    "classification_model = RandomForestClassifier()#GradientBoostingClassifier(n_estimators=100)"
   ],
   "metadata": {
    "collapsed": false,
    "ExecuteTime": {
     "end_time": "2024-09-10T01:39:04.412777Z",
     "start_time": "2024-09-10T01:39:04.405526Z"
    }
   },
   "id": "2782397914547e9f",
   "execution_count": 85
  },
  {
   "cell_type": "code",
   "outputs": [],
   "source": [
    "# loading the data for modeling\n",
    "data_df = pd.read_csv(opj(model_folder, str(model_version), 'modeling_df.csv'))\n",
    "# loading the json file of the model (configurations)\n",
    "model_params_f_name = opj(model_folder, str(model_version), 'model_params.json')\n",
    "with open(model_params_f_name, 'r', encoding='utf-8') as infile:\n",
    "    model_info_dict = json.load(infile)\n",
    "    infile.close()\n",
    "usecase = model_info_dict['usecase']\n",
    "max_year_to_include = model_info_dict['max_year_to_include']"
   ],
   "metadata": {
    "collapsed": false,
    "ExecuteTime": {
     "end_time": "2024-09-10T01:39:20.811543Z",
     "start_time": "2024-09-10T01:39:05.765021Z"
    }
   },
   "id": "fc099836666f0a0",
   "execution_count": 86
  },
  {
   "cell_type": "code",
   "outputs": [
    {
     "name": "stdout",
     "output_type": "stream",
     "text": [
      "Max year filter has been applied. Filtered dataset shape: (33305, 331).\n"
     ]
    }
   ],
   "source": [
    "# Set the first column as the index\n",
    "data_df.set_index(data_df.columns[0], inplace=True)\n",
    "data_df[target_column] = data_df[target_column].astype(int)\n",
    "# filtering too new articles\n",
    "if max_year_to_include is not None:\n",
    "    data_df = data_df[data_df['TIME_promotion_year'] <= max_year_to_include].copy()\n",
    "    print(f\"Max year filter has been applied. Filtered dataset shape: {data_df.shape}.\", flush=True)"
   ],
   "metadata": {
    "collapsed": false,
    "ExecuteTime": {
     "end_time": "2024-09-10T01:39:26.902277Z",
     "start_time": "2024-09-10T01:39:25.937967Z"
    }
   },
   "id": "2c2208001880a60a",
   "execution_count": 87
  },
  {
   "cell_type": "code",
   "outputs": [],
   "source": [
    "# all features that start with 'TIME_' should not be included in the modeling df\n",
    "x_columns = [c for c in data_df.columns if c != target_column and not c.startswith('TIME_')]\n",
    "# if we want to include specific sets of features (e.g., meta)\n",
    "if use_only_meta_features:\n",
    "    x_columns = [c for c in x_columns if c.startswith('META_')]\n",
    "x_data = data_df[x_columns].copy()\n",
    "y_data = data_df[target_column].copy()"
   ],
   "metadata": {
    "collapsed": false,
    "ExecuteTime": {
     "end_time": "2024-09-10T01:39:28.872688Z",
     "start_time": "2024-09-10T01:39:28.583227Z"
    }
   },
   "id": "666eef1c41e5e38a",
   "execution_count": 88
  },
  {
   "cell_type": "code",
   "outputs": [
    {
     "data": {
      "text/plain": "(33305, 326)"
     },
     "execution_count": 89,
     "metadata": {},
     "output_type": "execute_result"
    }
   ],
   "source": [
    "x_data.shape"
   ],
   "metadata": {
    "collapsed": false,
    "ExecuteTime": {
     "end_time": "2024-09-10T01:39:32.480415Z",
     "start_time": "2024-09-10T01:39:32.474369Z"
    }
   },
   "id": "5f2797d150f452ef",
   "execution_count": 89
  },
  {
   "cell_type": "code",
   "outputs": [
    {
     "name": "stdout",
     "output_type": "stream",
     "text": [
      "Fold 0 has ended.\n",
      "Fold 1 has ended.\n",
      "Fold 2 has ended.\n",
      "Fold 3 has ended.\n",
      "Fold 4 has ended.\n"
     ]
    }
   ],
   "source": [
    "skf = StratifiedKFold(n_splits=folds_k, shuffle=True, random_state=seed)\n",
    "eval_measures_train = dict()\n",
    "eval_measures_test = dict()\n",
    "predictions = dict()\n",
    "feature_importance = defaultdict(float)\n",
    "for cv_index, (train_index, test_index) in enumerate(skf.split(x_data, y_data)):\n",
    "    x_train, x_test = x_data.iloc[train_index], x_data.iloc[test_index]\n",
    "    y_train, y_test = y_data.iloc[train_index], y_data.iloc[test_index]\n",
    "    \n",
    "    # filling the missing values with the mean\n",
    "    imputer = SimpleImputer(strategy='mean')\n",
    "\n",
    "    # Fit the imputer on the training data and transform both train and test sets\n",
    "    x_train_imputed = pd.DataFrame(imputer.fit_transform(x_train), columns=x_train.columns)\n",
    "    x_test_imputed = pd.DataFrame(imputer.transform(x_test), columns=x_train.columns)\n",
    "\n",
    "    model = classification_model\n",
    "    model.fit(x_train_imputed, y_train)\n",
    "\n",
    "    # Evaluate the Model\n",
    "    y_pred = model.predict(x_test_imputed)\n",
    "    y_pred_proba = model.predict_proba(x_test_imputed)[:, 1]\n",
    "    \n",
    "    # finding the optimal threshold\n",
    "    y_train_pred_proba = model.predict_proba(x_train_imputed)[:, 1]\n",
    "    macro_optimal_th = find_optimal_threshold(y_true=y_train, predicted_proba=y_train_pred_proba, average='macro')\n",
    "    binary_optimal_th = find_optimal_threshold(y_true=y_train, predicted_proba=y_train_pred_proba, average='binary')\n",
    "\n",
    "    # Evaluate the Model\n",
    "    y_test_pred_proba = model.predict_proba(x_test_imputed)[:, 1]\n",
    "    y_pred_test = model.predict(x_test_imputed)\n",
    "    eval_dict_test = eval_classification_preds(true_values=y_test, preds=y_pred_test,\n",
    "                                               preds_proba=y_test_pred_proba, macro_optimal_th=macro_optimal_th, binary_optimal_th=binary_optimal_th)\n",
    "    eval_dict_train = eval_classification_preds(true_values=y_train, preds=model.predict(x_train_imputed),\n",
    "                                                preds_proba=y_train_pred_proba, macro_optimal_th=macro_optimal_th, binary_optimal_th=binary_optimal_th)\n",
    "\n",
    "    eval_measures_train[cv_index] = eval_dict_train\n",
    "    eval_measures_test[cv_index] = eval_dict_test\n",
    "    cur_pred_per_page = {page_id: pred for page_id, pred in zip(y_test.index, y_test_pred_proba)}\n",
    "    predictions.update(cur_pred_per_page)\n",
    "    # feature importance process\n",
    "    cur_feature_importance = {f_name: f_importance for f_name, f_importance in zip(model.feature_names_in_, model.feature_importances_)}\n",
    "    for cfi, value in cur_feature_importance.items():\n",
    "        feature_importance[cfi] += value\n",
    "    print(f\"Fold {cv_index} has ended.\")"
   ],
   "metadata": {
    "collapsed": false,
    "ExecuteTime": {
     "end_time": "2024-09-10T01:43:42.098415Z",
     "start_time": "2024-09-10T01:39:33.607178Z"
    }
   },
   "id": "ba0c728884bc6afb",
   "execution_count": 90
  },
  {
   "cell_type": "code",
   "outputs": [],
   "source": [
    "eval_measures_train_df = pd.DataFrame.from_dict(eval_measures_train, orient='index')\n",
    "eval_measures_test_df = pd.DataFrame.from_dict(eval_measures_test, orient='index')\n",
    "# append the average values as a new row to the DataFrame\n",
    "eval_measures_train_df.loc['mean'] = eval_measures_train_df.mean()\n",
    "eval_measures_train_df.loc['std'] = eval_measures_train_df.std()\n",
    "eval_measures_test_df.loc['mean'] = eval_measures_test_df.mean()\n",
    "eval_measures_test_df.loc['std'] = eval_measures_test_df.std()\n",
    "#eval_measures_train_df"
   ],
   "metadata": {
    "collapsed": false,
    "ExecuteTime": {
     "end_time": "2024-09-10T01:43:45.325117Z",
     "start_time": "2024-09-10T01:43:45.305442Z"
    }
   },
   "id": "66fb6a0c1168c39a",
   "execution_count": 91
  },
  {
   "cell_type": "code",
   "outputs": [
    {
     "data": {
      "text/plain": "           n  accuracy  precision    recall        f1  accuracy_opt_th  \\\n0     6661.0  0.919682   0.827947  0.608674  0.651191         0.919682   \n1     6661.0  0.917580   0.797190  0.613262  0.653911         0.917580   \n2     6661.0  0.917280   0.806603  0.601601  0.640760         0.917280   \n3     6661.0  0.915028   0.790775  0.591019  0.626272         0.915028   \n4     6661.0  0.914577   0.785614  0.592133  0.627318         0.914577   \nmean  6661.0  0.916829   0.801626  0.601338  0.639890         0.916829   \nstd      0.0  0.001856   0.014909  0.008801  0.011563         0.001856   \n\n      precision_opt_th  recall_opt_th  f1_opt_th       auc  ap_score  \n0             0.827947       0.608674   0.651191  0.845183  0.925161  \n1             0.797190       0.613262   0.653911  0.844442  0.925975  \n2             0.782409       0.628903   0.669323  0.825901  0.923911  \n3             0.790775       0.591019   0.626272  0.821702  0.922047  \n4             0.785614       0.592133   0.627318  0.820817  0.922116  \nmean          0.796787       0.606798   0.645603  0.831609  0.923842  \nstd           0.016364       0.014128   0.016559  0.010919  0.001581  ",
      "text/html": "<div>\n<style scoped>\n    .dataframe tbody tr th:only-of-type {\n        vertical-align: middle;\n    }\n\n    .dataframe tbody tr th {\n        vertical-align: top;\n    }\n\n    .dataframe thead th {\n        text-align: right;\n    }\n</style>\n<table border=\"1\" class=\"dataframe\">\n  <thead>\n    <tr style=\"text-align: right;\">\n      <th></th>\n      <th>n</th>\n      <th>accuracy</th>\n      <th>precision</th>\n      <th>recall</th>\n      <th>f1</th>\n      <th>accuracy_opt_th</th>\n      <th>precision_opt_th</th>\n      <th>recall_opt_th</th>\n      <th>f1_opt_th</th>\n      <th>auc</th>\n      <th>ap_score</th>\n    </tr>\n  </thead>\n  <tbody>\n    <tr>\n      <th>0</th>\n      <td>6661.0</td>\n      <td>0.919682</td>\n      <td>0.827947</td>\n      <td>0.608674</td>\n      <td>0.651191</td>\n      <td>0.919682</td>\n      <td>0.827947</td>\n      <td>0.608674</td>\n      <td>0.651191</td>\n      <td>0.845183</td>\n      <td>0.925161</td>\n    </tr>\n    <tr>\n      <th>1</th>\n      <td>6661.0</td>\n      <td>0.917580</td>\n      <td>0.797190</td>\n      <td>0.613262</td>\n      <td>0.653911</td>\n      <td>0.917580</td>\n      <td>0.797190</td>\n      <td>0.613262</td>\n      <td>0.653911</td>\n      <td>0.844442</td>\n      <td>0.925975</td>\n    </tr>\n    <tr>\n      <th>2</th>\n      <td>6661.0</td>\n      <td>0.917280</td>\n      <td>0.806603</td>\n      <td>0.601601</td>\n      <td>0.640760</td>\n      <td>0.917280</td>\n      <td>0.782409</td>\n      <td>0.628903</td>\n      <td>0.669323</td>\n      <td>0.825901</td>\n      <td>0.923911</td>\n    </tr>\n    <tr>\n      <th>3</th>\n      <td>6661.0</td>\n      <td>0.915028</td>\n      <td>0.790775</td>\n      <td>0.591019</td>\n      <td>0.626272</td>\n      <td>0.915028</td>\n      <td>0.790775</td>\n      <td>0.591019</td>\n      <td>0.626272</td>\n      <td>0.821702</td>\n      <td>0.922047</td>\n    </tr>\n    <tr>\n      <th>4</th>\n      <td>6661.0</td>\n      <td>0.914577</td>\n      <td>0.785614</td>\n      <td>0.592133</td>\n      <td>0.627318</td>\n      <td>0.914577</td>\n      <td>0.785614</td>\n      <td>0.592133</td>\n      <td>0.627318</td>\n      <td>0.820817</td>\n      <td>0.922116</td>\n    </tr>\n    <tr>\n      <th>mean</th>\n      <td>6661.0</td>\n      <td>0.916829</td>\n      <td>0.801626</td>\n      <td>0.601338</td>\n      <td>0.639890</td>\n      <td>0.916829</td>\n      <td>0.796787</td>\n      <td>0.606798</td>\n      <td>0.645603</td>\n      <td>0.831609</td>\n      <td>0.923842</td>\n    </tr>\n    <tr>\n      <th>std</th>\n      <td>0.0</td>\n      <td>0.001856</td>\n      <td>0.014909</td>\n      <td>0.008801</td>\n      <td>0.011563</td>\n      <td>0.001856</td>\n      <td>0.016364</td>\n      <td>0.014128</td>\n      <td>0.016559</td>\n      <td>0.010919</td>\n      <td>0.001581</td>\n    </tr>\n  </tbody>\n</table>\n</div>"
     },
     "execution_count": 92,
     "metadata": {},
     "output_type": "execute_result"
    }
   ],
   "source": [
    "eval_measures_test_df"
   ],
   "metadata": {
    "collapsed": false,
    "ExecuteTime": {
     "end_time": "2024-09-10T01:43:49.860574Z",
     "start_time": "2024-09-10T01:43:49.840303Z"
    }
   },
   "id": "417e4908b787b96b",
   "execution_count": 92
  },
  {
   "cell_type": "code",
   "outputs": [
    {
     "data": {
      "text/plain": "(0.6025853997120009, 0.6874146002879992)"
     },
     "execution_count": 93,
     "metadata": {},
     "output_type": "execute_result"
    }
   ],
   "source": [
    "from scipy.stats import t\n",
    "t.interval(0.95, 5, loc=0.645, scale=0.0165)  # 95% confidence interval"
   ],
   "metadata": {
    "collapsed": false,
    "ExecuteTime": {
     "end_time": "2024-09-10T01:45:07.848981Z",
     "start_time": "2024-09-10T01:45:07.841684Z"
    }
   },
   "id": "6378e49c07adff62",
   "execution_count": 93
  },
  {
   "cell_type": "markdown",
   "source": [
    "## Plotting interesting features"
   ],
   "metadata": {
    "collapsed": false
   },
   "id": "9a115203478a3383"
  },
  {
   "cell_type": "code",
   "outputs": [
    {
     "name": "stdout",
     "output_type": "stream",
     "text": [
      "The average :: median value of credibility_unweighted_score for sustainable cases is 2.3135218663900683 :: 1.5191599543024463\n",
      "The average :: median value of credibility_unweighted_score for unsustainable cases is 0.7519725496003946 :: 0.4097353944733181\n"
     ]
    },
    {
     "data": {
      "text/plain": "<Figure size 640x480 with 1 Axes>",
      "image/png": "[encoded data removed]"
     },
     "metadata": {},
     "output_type": "display_data"
    }
   ],
   "source": [
    "# plotting\n",
    "feature_to_plot = 'credibility_unweighted_score' #'discussions_sentiment_mean'\n",
    "feature_mean_sustainable = np.nanmean(data_df[data_df['is_sustained'] == True][feature_to_plot])\n",
    "feature_mean_unsustainable = np.nanmean(data_df[data_df['is_sustained'] == False][feature_to_plot])\n",
    "feature_median_sustainable = np.nanmedian(data_df[data_df['is_sustained'] == True][feature_to_plot])\n",
    "feature_median_unsustainable = np.nanmedian(data_df[data_df['is_sustained'] == False][feature_to_plot])\n",
    "print(f\"The average :: median value of {feature_to_plot} for sustainable cases is {feature_mean_sustainable} :: {feature_median_sustainable}\")\n",
    "print(f\"The average :: median value of {feature_to_plot} for unsustainable cases is {feature_mean_unsustainable} :: {feature_median_unsustainable}\")\n",
    "# Distribution for sustainable == True\n",
    "sns.kdeplot(data_df[data_df['is_sustained'] == True][feature_to_plot], label='True', fill=True)\n",
    "\n",
    "# Distribution for sustainable == False\n",
    "sns.kdeplot(data_df[data_df['is_sustained'] == False][feature_to_plot], label='False', fill=True)\n",
    "\n",
    "# heavy tali handling\n",
    "quantile_true = data_df[data_df['is_sustained'] == True][feature_to_plot].quantile(0.99)\n",
    "quantile_false = data_df[data_df['is_sustained'] == False][feature_to_plot].quantile(0.99)\n",
    "# Determine the maximum x value based on the 0.99 quantile\n",
    "max_x = max(quantile_true, quantile_false)\n",
    "\n",
    "plt.title(f'Distribution of {feature_to_plot} Per Sustainable/Unsustainable, model: {model_version}')\n",
    "plt.xlabel(feature_to_plot)\n",
    "plt.ylabel('Density')\n",
    "plt.xlim(right=max_x)\n",
    "plt.legend()\n",
    "plt.show()"
   ],
   "metadata": {
    "collapsed": false,
    "ExecuteTime": {
     "end_time": "2024-08-22T03:18:20.802305Z",
     "start_time": "2024-08-22T03:18:19.828635Z"
    }
   },
   "id": "724939f9fa70cc33",
   "execution_count": 40
  }
 ],
 "metadata": {
  "kernelspec": {
   "display_name": "Python 3",
   "language": "python",
   "name": "python3"
  },
  "language_info": {
   "codemirror_mode": {
    "name": "ipython",
    "version": 2
   },
   "file_extension": ".py",
   "mimetype": "text/x-python",
   "name": "python",
   "nbconvert_exporter": "python",
   "pygments_lexer": "ipython2",
   "version": "2.7.6"
  }
 },
 "nbformat": 4,
 "nbformat_minor": 5
}
